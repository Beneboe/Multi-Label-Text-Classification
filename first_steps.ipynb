{
 "cells": [
  {
   "cell_type": "markdown",
   "metadata": {
    "colab_type": "text",
    "id": "W-2kOWEAsmLI"
   },
   "source": [
    "# Loading a Pre-Trained Word Embeddings Model\n",
    "Use for example this GoogleNews\n"
   ]
  },
  {
   "cell_type": "code",
   "execution_count": null,
   "metadata": {
    "colab": {},
    "colab_type": "code",
    "id": "9e6AyV8bsmLI"
   },
   "outputs": [],
   "source": [
    "import gensim\n",
    "\n",
    "model = gensim.models.KeyedVectors.load_word2vec_format(\"datasets/first-steps/GoogleNews-vectors-negative300.bin.gz\", binary=True)"
   ]
  },
  {
   "cell_type": "markdown",
   "metadata": {
    "colab_type": "text",
    "id": "Cxk5dZ5WsmLM"
   },
   "source": [
    "## Play a Bit With Gensim"
   ]
  },
  {
   "cell_type": "code",
   "execution_count": null,
   "metadata": {
    "colab": {
     "base_uri": "https://localhost:8080/",
     "height": 35
    },
    "colab_type": "code",
    "id": "bRcxopfBy3gK",
    "outputId": "a4095f71-14d7-474e-a91c-90dedc3c7017"
   },
   "outputs": [
    {
     "data": {
      "text/plain": [
       "gensim.models.keyedvectors.Word2VecKeyedVectors"
      ]
     },
     "execution_count": 25,
     "metadata": {
      "tags": []
     },
     "output_type": "execute_result"
    }
   ],
   "source": [
    "type(model)"
   ]
  },
  {
   "cell_type": "code",
   "execution_count": null,
   "metadata": {
    "colab": {
     "base_uri": "https://localhost:8080/",
     "height": 35
    },
    "colab_type": "code",
    "id": "dtmJCOsmznJo",
    "outputId": "404fc475-1eb0-4325-9a3b-f2d69abd84c0"
   },
   "outputs": [
    {
     "data": {
      "text/plain": [
       "3000000"
      ]
     },
     "execution_count": 27,
     "metadata": {
      "tags": []
     },
     "output_type": "execute_result"
    }
   ],
   "source": [
    "len(model.index2entity)"
   ]
  },
  {
   "cell_type": "code",
   "execution_count": null,
   "metadata": {
    "colab": {
     "base_uri": "https://localhost:8080/",
     "height": 35
    },
    "colab_type": "code",
    "id": "611SBT4J0Ms0",
    "outputId": "f3e4a8ab-bd7a-40dd-ab12-a7b198be5618"
   },
   "outputs": [
    {
     "data": {
      "text/plain": [
       "5947"
      ]
     },
     "execution_count": 9,
     "metadata": {
      "tags": []
     },
     "output_type": "execute_result"
    }
   ],
   "source": [
    "model.vocab[\"cat\"].index"
   ]
  },
  {
   "cell_type": "code",
   "execution_count": null,
   "metadata": {
    "colab": {
     "base_uri": "https://localhost:8080/",
     "height": 35
    },
    "colab_type": "code",
    "id": "Vwv8ZNhasmLM",
    "outputId": "821cc75d-de53-4ab5-d644-d79d5059251d"
   },
   "outputs": [
    {
     "data": {
      "text/plain": [
       "300"
      ]
     },
     "execution_count": 24,
     "metadata": {
      "tags": []
     },
     "output_type": "execute_result"
    }
   ],
   "source": [
    "len(model['cat'])"
   ]
  },
  {
   "cell_type": "code",
   "execution_count": null,
   "metadata": {
    "colab": {
     "base_uri": "https://localhost:8080/",
     "height": 1000
    },
    "colab_type": "code",
    "id": "Bxu-rhQJ5GLl",
    "outputId": "9c44216c-ce9f-4d03-b504-18b04195ecf7"
   },
   "outputs": [
    {
     "data": {
      "text/plain": [
       "array([ 0.0123291 ,  0.20410156, -0.28515625,  0.21679688,  0.11816406,\n",
       "        0.08300781,  0.04980469, -0.00952148,  0.22070312, -0.12597656,\n",
       "        0.08056641, -0.5859375 , -0.00445557, -0.296875  , -0.01312256,\n",
       "       -0.08349609,  0.05053711,  0.15136719, -0.44921875, -0.0135498 ,\n",
       "        0.21484375, -0.14746094,  0.22460938, -0.125     , -0.09716797,\n",
       "        0.24902344, -0.2890625 ,  0.36523438,  0.41210938, -0.0859375 ,\n",
       "       -0.07861328, -0.19726562, -0.09082031, -0.14160156, -0.10253906,\n",
       "        0.13085938, -0.00346375,  0.07226562,  0.04418945,  0.34570312,\n",
       "        0.07470703, -0.11230469,  0.06738281,  0.11230469,  0.01977539,\n",
       "       -0.12353516,  0.20996094, -0.07226562, -0.02783203,  0.05541992,\n",
       "       -0.33398438,  0.08544922,  0.34375   ,  0.13964844,  0.04931641,\n",
       "       -0.13476562,  0.16308594, -0.37304688,  0.39648438,  0.10693359,\n",
       "        0.22167969,  0.21289062, -0.08984375,  0.20703125,  0.08935547,\n",
       "       -0.08251953,  0.05957031,  0.10205078, -0.19238281, -0.09082031,\n",
       "        0.4921875 ,  0.03955078, -0.07080078, -0.0019989 , -0.23046875,\n",
       "        0.25585938,  0.08984375, -0.10644531,  0.00105286, -0.05883789,\n",
       "        0.05102539, -0.0291748 ,  0.19335938, -0.14160156, -0.33398438,\n",
       "        0.08154297, -0.27539062,  0.10058594, -0.10449219, -0.12353516,\n",
       "       -0.140625  ,  0.03491211, -0.11767578, -0.1796875 , -0.21484375,\n",
       "       -0.23828125,  0.08447266, -0.07519531, -0.25976562, -0.21289062,\n",
       "       -0.22363281, -0.09716797,  0.11572266,  0.15429688,  0.07373047,\n",
       "       -0.27539062,  0.14257812, -0.0201416 ,  0.10009766, -0.19042969,\n",
       "       -0.09375   ,  0.14160156,  0.17089844,  0.3125    , -0.16699219,\n",
       "       -0.08691406, -0.05004883, -0.24902344, -0.20800781, -0.09423828,\n",
       "       -0.12255859, -0.09472656, -0.390625  , -0.06640625, -0.31640625,\n",
       "        0.10986328, -0.00156403,  0.04345703,  0.15625   , -0.18945312,\n",
       "       -0.03491211,  0.03393555, -0.14453125,  0.01611328, -0.14160156,\n",
       "       -0.02392578,  0.01501465,  0.07568359,  0.10742188,  0.12695312,\n",
       "        0.10693359, -0.01184082, -0.24023438,  0.0291748 ,  0.16210938,\n",
       "        0.19921875, -0.28125   ,  0.16699219, -0.11621094, -0.25585938,\n",
       "        0.38671875, -0.06640625, -0.4609375 , -0.06176758, -0.14453125,\n",
       "       -0.11621094,  0.05688477,  0.03588867, -0.10693359,  0.18847656,\n",
       "       -0.16699219, -0.01794434,  0.10986328, -0.12353516, -0.16308594,\n",
       "       -0.14453125,  0.12890625,  0.11523438,  0.13671875,  0.05688477,\n",
       "       -0.08105469, -0.06152344, -0.06689453,  0.27929688, -0.19628906,\n",
       "        0.07226562,  0.12304688, -0.20996094, -0.22070312,  0.21386719,\n",
       "       -0.1484375 , -0.05932617,  0.05224609,  0.06445312, -0.02636719,\n",
       "        0.13183594,  0.19433594,  0.27148438,  0.18652344,  0.140625  ,\n",
       "        0.06542969, -0.14453125,  0.05029297,  0.08837891,  0.12255859,\n",
       "        0.26757812,  0.0534668 , -0.32226562, -0.20703125,  0.18164062,\n",
       "        0.04418945, -0.22167969, -0.13769531, -0.04174805, -0.00286865,\n",
       "        0.04077148,  0.07275391, -0.08300781,  0.08398438, -0.3359375 ,\n",
       "       -0.40039062,  0.01757812, -0.18652344, -0.0480957 , -0.19140625,\n",
       "        0.10107422,  0.09277344, -0.30664062, -0.19921875, -0.0168457 ,\n",
       "        0.12207031,  0.14648438, -0.12890625, -0.23535156, -0.05371094,\n",
       "       -0.06640625,  0.06884766, -0.03637695,  0.2109375 , -0.06005859,\n",
       "        0.19335938,  0.05151367, -0.05322266,  0.02893066, -0.27539062,\n",
       "        0.08447266,  0.328125  ,  0.01818848,  0.01495361,  0.04711914,\n",
       "        0.37695312, -0.21875   , -0.03393555,  0.01116943,  0.36914062,\n",
       "        0.02160645,  0.03466797,  0.07275391,  0.16015625, -0.16503906,\n",
       "       -0.296875  ,  0.15039062, -0.29101562,  0.13964844,  0.00448608,\n",
       "        0.171875  , -0.21972656,  0.09326172, -0.19042969,  0.01599121,\n",
       "       -0.09228516,  0.15722656, -0.14160156, -0.0534668 ,  0.03613281,\n",
       "        0.23632812, -0.15136719, -0.00689697, -0.27148438, -0.07128906,\n",
       "       -0.16503906,  0.18457031, -0.08398438,  0.18554688,  0.11669922,\n",
       "        0.02758789, -0.04760742,  0.17871094,  0.06542969, -0.03540039,\n",
       "        0.22949219,  0.02697754, -0.09765625,  0.26953125,  0.08349609,\n",
       "       -0.13085938, -0.10107422, -0.00738525,  0.07128906,  0.14941406,\n",
       "       -0.20605469,  0.18066406, -0.15820312,  0.05932617,  0.28710938,\n",
       "       -0.04663086,  0.15136719,  0.4921875 , -0.27539062,  0.05615234],\n",
       "      dtype=float32)"
      ]
     },
     "execution_count": 36,
     "metadata": {
      "tags": []
     },
     "output_type": "execute_result"
    }
   ],
   "source": [
    "model[\"cat\"]"
   ]
  },
  {
   "cell_type": "code",
   "execution_count": null,
   "metadata": {
    "colab": {
     "base_uri": "https://localhost:8080/",
     "height": 1000
    },
    "colab_type": "code",
    "id": "TI9eRIP9smLR",
    "outputId": "51031a0f-4d63-4360-86d7-1fa04ffcad12"
   },
   "outputs": [
    {
     "data": {
      "text/plain": [
       "array([ 4.29687500e-02, -1.78222656e-01, -1.29089355e-01,  1.15234375e-01,\n",
       "        2.68554688e-03, -1.02294922e-01,  1.95800781e-01, -1.79504395e-01,\n",
       "        1.95312500e-02,  4.09919739e-01, -3.68164062e-01, -3.96484375e-01,\n",
       "       -1.56738281e-01,  1.46484375e-03, -9.30175781e-02, -1.16455078e-01,\n",
       "       -5.51757812e-02, -1.07574463e-01,  7.91015625e-02,  1.98974609e-01,\n",
       "        2.38525391e-01,  6.34002686e-02, -2.17285156e-02,  0.00000000e+00,\n",
       "        4.72412109e-02, -2.17773438e-01, -3.44726562e-01,  6.37207031e-02,\n",
       "        3.16406250e-01, -1.97631836e-01,  8.59375000e-02, -8.11767578e-02,\n",
       "       -3.71093750e-02,  3.15551758e-01, -3.41796875e-01, -4.68750000e-02,\n",
       "        9.76562500e-02,  8.39843750e-02, -9.71679688e-02,  5.17578125e-02,\n",
       "       -5.00488281e-02, -2.20947266e-01,  2.29492188e-01,  1.26403809e-01,\n",
       "        2.49023438e-01,  2.09960938e-02, -1.09863281e-01,  5.81054688e-02,\n",
       "       -3.35693359e-02,  1.29577637e-01,  2.41699219e-02,  3.48129272e-02,\n",
       "       -2.60009766e-01,  2.42309570e-01, -3.21777344e-01,  1.45416260e-02,\n",
       "       -1.59179688e-01, -8.37402344e-02,  1.65039062e-01,  1.58691406e-03,\n",
       "        3.09570312e-01,  3.16406250e-01,  7.38525391e-03,  2.41210938e-01,\n",
       "        4.90722656e-02, -9.86328125e-02,  2.90527344e-02,  1.49414062e-01,\n",
       "       -4.83398438e-02,  2.35595703e-01,  2.21191406e-01,  1.25488281e-01,\n",
       "       -1.38671875e-01,  1.54296875e-01,  7.18994141e-02,  1.29882812e-01,\n",
       "       -1.05712891e-01,  6.00585938e-02,  3.14697266e-01,  1.09619141e-01,\n",
       "        8.49609375e-02,  7.71484375e-02, -2.17285156e-02,  6.11572266e-02,\n",
       "       -1.89941406e-01,  2.07519531e-01, -1.63085938e-01,  1.13525391e-01,\n",
       "        2.01171875e-01,  6.06689453e-02,  1.27929688e-01, -3.11279297e-01,\n",
       "       -2.80151367e-01, -1.55883789e-01,  4.15039062e-02,  9.87854004e-02,\n",
       "        1.69555664e-01, -3.49121094e-02,  2.08496094e-01, -9.89990234e-02,\n",
       "        4.39453125e-03, -7.27539062e-02, -4.24804688e-02, -4.09179688e-01,\n",
       "       -2.76367188e-01,  1.64062500e-01, -5.57617188e-01, -2.02199936e-01,\n",
       "        2.12158203e-01, -9.81445312e-02,  2.30773926e-01,  2.75878906e-01,\n",
       "        1.68092728e-01, -4.50439453e-02,  1.71615601e-01, -3.77075195e-01,\n",
       "       -3.52478027e-03, -3.01513672e-01,  1.74224854e-01,  3.30078125e-01,\n",
       "        2.00683594e-01,  1.17736816e-01, -1.37695312e-01, -1.07421875e-01,\n",
       "        8.61816406e-02,  1.06445312e-01,  1.44531250e-01,  3.05175781e-03,\n",
       "        1.80664062e-02,  3.73535156e-02,  7.32421875e-03,  1.32812500e-01,\n",
       "        9.61914062e-02,  3.35998535e-01,  1.81152344e-01,  2.40905762e-01,\n",
       "       -8.49609375e-02, -1.10107422e-01,  2.11914062e-01,  5.85937500e-03,\n",
       "        1.62109375e-01, -4.15527344e-01,  1.39160156e-01,  1.01562500e-01,\n",
       "        1.44531250e-01, -1.09375000e-01,  4.88281250e-02,  6.15234375e-02,\n",
       "       -1.69921875e-01,  3.28369141e-02,  5.56640625e-02,  1.47460938e-01,\n",
       "       -2.24609375e-02, -2.73925781e-01, -2.81982422e-01, -1.39160156e-01,\n",
       "       -1.81884766e-01,  9.33532715e-02,  1.21093750e-01, -5.37109375e-03,\n",
       "       -1.87500000e-01,  3.05175781e-04,  5.52734375e-01, -9.71679688e-02,\n",
       "       -1.81640625e-01, -1.51855469e-01,  7.76367188e-02, -2.38281250e-01,\n",
       "       -2.63977051e-02,  2.25555420e-01, -3.02734375e-01,  1.34765625e-01,\n",
       "        3.23242188e-01,  1.25976562e-01,  3.51562500e-02, -2.04345703e-01,\n",
       "        2.96142578e-01,  1.03149414e-01, -4.76074219e-03,  1.69189453e-01,\n",
       "       -3.50585938e-01,  2.46887207e-02, -3.90502930e-01, -2.70507812e-01,\n",
       "        1.85241699e-02,  1.04492188e-01,  2.84179688e-01,  1.35009766e-01,\n",
       "       -5.95703125e-02,  1.88232422e-01,  8.88214111e-02,  3.24707031e-02,\n",
       "       -8.98437500e-02,  5.45043945e-02,  5.65185547e-02,  1.56860352e-01,\n",
       "       -9.70458984e-03, -7.08007812e-02,  5.71289062e-02, -3.08837891e-01,\n",
       "       -1.91894531e-01,  4.83398438e-02,  5.22460938e-02, -1.59667969e-01,\n",
       "       -4.49218750e-02, -7.37304688e-02,  5.51757812e-02,  2.12402344e-01,\n",
       "        2.05322266e-01, -2.73437500e-02,  7.86132812e-02,  3.19091797e-01,\n",
       "       -1.56982422e-01, -3.92822266e-01,  4.00390625e-02,  9.93652344e-02,\n",
       "       -1.97372437e-02, -8.25195312e-02,  2.53906250e-02,  3.10668945e-02,\n",
       "       -3.63769531e-02,  1.48925781e-02,  2.20703125e-01, -5.98144531e-02,\n",
       "        6.15234375e-02, -7.14111328e-02, -4.00390625e-02, -1.03515625e-01,\n",
       "        9.22851562e-02,  2.71789551e-01, -2.30224609e-01, -2.62695312e-01,\n",
       "       -5.61523438e-01,  1.38549805e-02,  1.09863281e-01,  7.22656250e-02,\n",
       "        4.58984375e-02, -3.31802368e-02, -8.03833008e-02, -6.10351562e-03,\n",
       "        2.09960938e-01, -3.86840820e-01,  1.44645691e-01,  8.05664062e-02,\n",
       "        2.96264648e-01, -1.17187500e-02, -2.34680176e-01,  1.32019043e-01,\n",
       "        2.53906250e-01, -2.46826172e-01,  1.03759766e-01,  1.14013672e-01,\n",
       "        1.71875000e-01, -5.61523438e-03,  2.05078125e-01,  6.34765625e-02,\n",
       "       -4.51293945e-01, -2.26562500e-01, -1.03027344e-01, -1.31469727e-01,\n",
       "        3.75976562e-02,  2.70996094e-01, -2.39257812e-01,  3.80859375e-02,\n",
       "       -3.90625000e-02, -9.42382812e-02,  8.30078125e-03,  7.03125000e-02,\n",
       "        2.75390625e-01,  3.31542969e-01, -1.07421875e-02,  3.72192383e-01,\n",
       "       -1.24511719e-01,  1.94335938e-01, -1.35620117e-01, -3.09570312e-01,\n",
       "       -2.36328125e-01, -1.26953125e-02, -2.76855469e-01,  1.57714844e-01,\n",
       "        3.07617188e-01, -2.32910156e-01,  3.25439453e-01,  1.36718750e-02,\n",
       "        1.99462891e-01, -2.61840820e-02, -8.08105469e-02, -7.50732422e-02,\n",
       "       -4.11109924e-02,  1.95556641e-01, -5.64270020e-02, -2.79296875e-01,\n",
       "       -2.75390625e-01, -4.04296875e-01, -1.75781250e-02, -5.85937500e-03,\n",
       "       -7.71484375e-02,  1.33789062e-01,  2.36816406e-01,  2.01538086e-01],\n",
       "      dtype=float32)"
      ]
     },
     "execution_count": 7,
     "metadata": {
      "tags": []
     },
     "output_type": "execute_result"
    }
   ],
   "source": [
    "linreg = model['king'] - model['man'] + model['woman']\n",
    "linreg"
   ]
  },
  {
   "cell_type": "code",
   "execution_count": null,
   "metadata": {
    "colab": {
     "base_uri": "https://localhost:8080/",
     "height": 191
    },
    "colab_type": "code",
    "id": "HIhKufxnsmLU",
    "outputId": "d29b5aa2-ef44-45ac-e13f-a87d735f1e9a"
   },
   "outputs": [
    {
     "data": {
      "text/plain": [
       "[('king', 0.8449392318725586),\n",
       " ('queen', 0.7300516963005066),\n",
       " ('monarch', 0.6454660892486572),\n",
       " ('princess', 0.6156251430511475),\n",
       " ('crown_prince', 0.5818676352500916),\n",
       " ('prince', 0.5777117609977722),\n",
       " ('kings', 0.5613663196563721),\n",
       " ('sultan', 0.5376776456832886),\n",
       " ('Queen_Consort', 0.5344248414039612),\n",
       " ('queens', 0.5289887189865112)]"
      ]
     },
     "execution_count": 9,
     "metadata": {
      "tags": []
     },
     "output_type": "execute_result"
    }
   ],
   "source": [
    "model.similar_by_vector(linreg, topn=10)"
   ]
  },
  {
   "cell_type": "code",
   "execution_count": null,
   "metadata": {
    "colab": {
     "base_uri": "https://localhost:8080/",
     "height": 35
    },
    "colab_type": "code",
    "id": "fZYWXyWEsmLX",
    "outputId": "6b507868-502c-4189-f489-a97bf1df9fff"
   },
   "outputs": [
    {
     "data": {
      "text/plain": [
       "0.76094574"
      ]
     },
     "execution_count": 10,
     "metadata": {
      "tags": []
     },
     "output_type": "execute_result"
    }
   ],
   "source": [
    "model.similarity('cat', 'dog')"
   ]
  },
  {
   "cell_type": "code",
   "execution_count": null,
   "metadata": {
    "colab": {
     "base_uri": "https://localhost:8080/",
     "height": 35
    },
    "colab_type": "code",
    "id": "RdmWp44VsmLa",
    "outputId": "b0fa5c7d-744d-4ee6-8e81-03983ca93e3c"
   },
   "outputs": [
    {
     "data": {
      "text/plain": [
       "0.2622803"
      ]
     },
     "execution_count": 11,
     "metadata": {
      "tags": []
     },
     "output_type": "execute_result"
    }
   ],
   "source": [
    "model.similarity('laptop', 'pen')"
   ]
  },
  {
   "cell_type": "code",
   "execution_count": null,
   "metadata": {
    "colab": {
     "base_uri": "https://localhost:8080/",
     "height": 191
    },
    "colab_type": "code",
    "id": "kW4dG5B-smLf",
    "outputId": "0c948167-44ad-4044-9342-65aa0f3f4603"
   },
   "outputs": [
    {
     "data": {
      "text/plain": [
       "[('computers', 0.7979379892349243),\n",
       " ('laptop', 0.6640493273735046),\n",
       " ('laptop_computer', 0.6548868417739868),\n",
       " ('Computer', 0.6473335027694702),\n",
       " ('com_puter', 0.6082080006599426),\n",
       " ('technician_Leonard_Luchko', 0.5662748217582703),\n",
       " ('mainframes_minicomputers', 0.5617721080780029),\n",
       " ('laptop_computers', 0.5585449934005737),\n",
       " ('PC', 0.5539618134498596),\n",
       " ('maker_Dell_DELL.O', 0.5519254207611084)]"
      ]
     },
     "execution_count": 12,
     "metadata": {
      "tags": []
     },
     "output_type": "execute_result"
    }
   ],
   "source": [
    "model.most_similar(positive='computer', topn=10)"
   ]
  },
  {
   "cell_type": "markdown",
   "metadata": {
    "colab_type": "text",
    "id": "w_Kn4jpnsmLi"
   },
   "source": [
    "# Creating a Word Embeddings Model\n",
    "Create a new word embeddings model using the CharCnn_Keras dataset. Importing the csv data with [panda's read_csv](https://pandas.pydata.org/pandas-docs/stable/user_guide/io.html#io-read-csv-table)."
   ]
  },
  {
   "cell_type": "markdown",
   "metadata": {
    "colab_type": "text",
    "id": "y0_1XBbDnSIs"
   },
   "source": [
    "## Preparing the Input Data\n",
    "Accessing DataFrame's columns and combining them to create a new corpus."
   ]
  },
  {
   "cell_type": "code",
   "execution_count": null,
   "metadata": {
    "colab": {
     "base_uri": "https://localhost:8080/",
     "height": 415
    },
    "colab_type": "code",
    "id": "D_rHdnIu9Gm4",
    "outputId": "d966d6ff-9e8c-4c6e-b5a1-0adedc01c093"
   },
   "outputs": [
    {
     "data": {
      "text/html": [
       "<div>\n",
       "<style scoped>\n",
       "    .dataframe tbody tr th:only-of-type {\n",
       "        vertical-align: middle;\n",
       "    }\n",
       "\n",
       "    .dataframe tbody tr th {\n",
       "        vertical-align: top;\n",
       "    }\n",
       "\n",
       "    .dataframe thead th {\n",
       "        text-align: right;\n",
       "    }\n",
       "</style>\n",
       "<table border=\"1\" class=\"dataframe\">\n",
       "  <thead>\n",
       "    <tr style=\"text-align: right;\">\n",
       "      <th></th>\n",
       "      <th>class</th>\n",
       "      <th>text</th>\n",
       "    </tr>\n",
       "  </thead>\n",
       "  <tbody>\n",
       "    <tr>\n",
       "      <th>0</th>\n",
       "      <td>3</td>\n",
       "      <td>Wall St. Bears Claw Back Into the Black (Reute...</td>\n",
       "    </tr>\n",
       "    <tr>\n",
       "      <th>1</th>\n",
       "      <td>3</td>\n",
       "      <td>Carlyle Looks Toward Commercial Aerospace (Reu...</td>\n",
       "    </tr>\n",
       "    <tr>\n",
       "      <th>2</th>\n",
       "      <td>3</td>\n",
       "      <td>Oil and Economy Cloud Stocks' Outlook (Reuters...</td>\n",
       "    </tr>\n",
       "    <tr>\n",
       "      <th>3</th>\n",
       "      <td>3</td>\n",
       "      <td>Iraq Halts Oil Exports from Main Southern Pipe...</td>\n",
       "    </tr>\n",
       "    <tr>\n",
       "      <th>4</th>\n",
       "      <td>3</td>\n",
       "      <td>Oil prices soar to all-time record, posing new...</td>\n",
       "    </tr>\n",
       "    <tr>\n",
       "      <th>...</th>\n",
       "      <td>...</td>\n",
       "      <td>...</td>\n",
       "    </tr>\n",
       "    <tr>\n",
       "      <th>119995</th>\n",
       "      <td>1</td>\n",
       "      <td>Pakistan's Musharraf Says Won't Quit as Army C...</td>\n",
       "    </tr>\n",
       "    <tr>\n",
       "      <th>119996</th>\n",
       "      <td>2</td>\n",
       "      <td>Renteria signing a top-shelf deal Red Sox gene...</td>\n",
       "    </tr>\n",
       "    <tr>\n",
       "      <th>119997</th>\n",
       "      <td>2</td>\n",
       "      <td>Saban not going to Dolphins yet The Miami Dolp...</td>\n",
       "    </tr>\n",
       "    <tr>\n",
       "      <th>119998</th>\n",
       "      <td>2</td>\n",
       "      <td>Today's NFL games PITTSBURGH at NY GIANTS Time...</td>\n",
       "    </tr>\n",
       "    <tr>\n",
       "      <th>119999</th>\n",
       "      <td>2</td>\n",
       "      <td>Nets get Carter from Raptors INDIANAPOLIS -- A...</td>\n",
       "    </tr>\n",
       "  </tbody>\n",
       "</table>\n",
       "<p>120000 rows × 2 columns</p>\n",
       "</div>"
      ],
      "text/plain": [
       "        class                                               text\n",
       "0           3  Wall St. Bears Claw Back Into the Black (Reute...\n",
       "1           3  Carlyle Looks Toward Commercial Aerospace (Reu...\n",
       "2           3  Oil and Economy Cloud Stocks' Outlook (Reuters...\n",
       "3           3  Iraq Halts Oil Exports from Main Southern Pipe...\n",
       "4           3  Oil prices soar to all-time record, posing new...\n",
       "...       ...                                                ...\n",
       "119995      1  Pakistan's Musharraf Says Won't Quit as Army C...\n",
       "119996      2  Renteria signing a top-shelf deal Red Sox gene...\n",
       "119997      2  Saban not going to Dolphins yet The Miami Dolp...\n",
       "119998      2  Today's NFL games PITTSBURGH at NY GIANTS Time...\n",
       "119999      2  Nets get Carter from Raptors INDIANAPOLIS -- A...\n",
       "\n",
       "[120000 rows x 2 columns]"
      ]
     },
     "execution_count": 2,
     "metadata": {
      "tags": []
     },
     "output_type": "execute_result"
    }
   ],
   "source": [
    "import pandas as pd\n",
    "colnames = ['class', 'text', 'description']\n",
    "# The csv has no header row therefore header=None\n",
    "df = pd.read_csv('datasets/first-steps/charcnn_keras.csv', header=None, names=colnames)\n",
    "df['text'] = df['text'].astype(pd.StringDtype())\n",
    "# Join the description column on the text column\n",
    "df['text'] = df['text'].str.cat(df['description'], sep=\" \")\n",
    "# Remove the description column\n",
    "df = df[['class', 'text']]\n",
    "# Replace double slashes with a space\n",
    "df['text'] = df['text'].str.replace(\"\\\\\", \" \")\n",
    "df"
   ]
  },
  {
   "cell_type": "code",
   "execution_count": null,
   "metadata": {
    "colab": {
     "base_uri": "https://localhost:8080/",
     "height": 34
    },
    "colab_type": "code",
    "id": "SxqYLpnRrZ86",
    "outputId": "696d408c-aae8-4f24-d049-c1049501a2a4"
   },
   "outputs": [
    {
     "data": {
      "text/plain": [
       "\"Wall St. Bears Claw Back Into the Black (Reuters) Reuters - Short-sellers, Wall Street's dwindling band of ultra-cynics, are seeing green again.\""
      ]
     },
     "execution_count": 3,
     "metadata": {
      "tags": []
     },
     "output_type": "execute_result"
    }
   ],
   "source": [
    "df.loc[0]['text'] # get first item in pandas series"
   ]
  },
  {
   "cell_type": "markdown",
   "metadata": {
    "colab_type": "text",
    "id": "_m0GL8oFs1SV"
   },
   "source": [
    "[Working with text data in pandas](https://pandas.pydata.org/pandas-docs/stable/user_guide/text.html). Further text processing steps. Using generators (map) for better performance instead of something like [pandas.Series.apply()](https://pandas.pydata.org/pandas-docs/stable/reference/api/pandas.Series.apply.html)."
   ]
  },
  {
   "cell_type": "code",
   "execution_count": null,
   "metadata": {
    "colab": {
     "base_uri": "https://localhost:8080/",
     "height": 415
    },
    "colab_type": "code",
    "id": "3tkbYY_lsHkc",
    "outputId": "6dd38c83-afc4-4bbd-9da9-4623bd9f08a0"
   },
   "outputs": [
    {
     "data": {
      "text/html": [
       "<div>\n",
       "<style scoped>\n",
       "    .dataframe tbody tr th:only-of-type {\n",
       "        vertical-align: middle;\n",
       "    }\n",
       "\n",
       "    .dataframe tbody tr th {\n",
       "        vertical-align: top;\n",
       "    }\n",
       "\n",
       "    .dataframe thead th {\n",
       "        text-align: right;\n",
       "    }\n",
       "</style>\n",
       "<table border=\"1\" class=\"dataframe\">\n",
       "  <thead>\n",
       "    <tr style=\"text-align: right;\">\n",
       "      <th></th>\n",
       "      <th>class</th>\n",
       "      <th>text</th>\n",
       "    </tr>\n",
       "  </thead>\n",
       "  <tbody>\n",
       "    <tr>\n",
       "      <th>0</th>\n",
       "      <td>3</td>\n",
       "      <td>[wall, st., bears, claw, back, into, the, blac...</td>\n",
       "    </tr>\n",
       "    <tr>\n",
       "      <th>1</th>\n",
       "      <td>3</td>\n",
       "      <td>[carlyle, looks, toward, commercial, aerospace...</td>\n",
       "    </tr>\n",
       "    <tr>\n",
       "      <th>2</th>\n",
       "      <td>3</td>\n",
       "      <td>[oil, and, economy, cloud, stocks, ', outlook,...</td>\n",
       "    </tr>\n",
       "    <tr>\n",
       "      <th>3</th>\n",
       "      <td>3</td>\n",
       "      <td>[iraq, halts, oil, exports, from, main, southe...</td>\n",
       "    </tr>\n",
       "    <tr>\n",
       "      <th>4</th>\n",
       "      <td>3</td>\n",
       "      <td>[oil, prices, soar, to, all-time, record, posi...</td>\n",
       "    </tr>\n",
       "    <tr>\n",
       "      <th>...</th>\n",
       "      <td>...</td>\n",
       "      <td>...</td>\n",
       "    </tr>\n",
       "    <tr>\n",
       "      <th>119995</th>\n",
       "      <td>1</td>\n",
       "      <td>[pakistan, 's, musharraf, says, wo, n't, quit,...</td>\n",
       "    </tr>\n",
       "    <tr>\n",
       "      <th>119996</th>\n",
       "      <td>2</td>\n",
       "      <td>[renteria, signing, a, top-shelf, deal, red, s...</td>\n",
       "    </tr>\n",
       "    <tr>\n",
       "      <th>119997</th>\n",
       "      <td>2</td>\n",
       "      <td>[saban, not, going, to, dolphins, yet, the, mi...</td>\n",
       "    </tr>\n",
       "    <tr>\n",
       "      <th>119998</th>\n",
       "      <td>2</td>\n",
       "      <td>[today, 's, nfl, games, pittsburgh, at, ny, gi...</td>\n",
       "    </tr>\n",
       "    <tr>\n",
       "      <th>119999</th>\n",
       "      <td>2</td>\n",
       "      <td>[nets, get, carter, from, raptors, indianapoli...</td>\n",
       "    </tr>\n",
       "  </tbody>\n",
       "</table>\n",
       "<p>120000 rows × 2 columns</p>\n",
       "</div>"
      ],
      "text/plain": [
       "        class                                               text\n",
       "0           3  [wall, st., bears, claw, back, into, the, blac...\n",
       "1           3  [carlyle, looks, toward, commercial, aerospace...\n",
       "2           3  [oil, and, economy, cloud, stocks, ', outlook,...\n",
       "3           3  [iraq, halts, oil, exports, from, main, southe...\n",
       "4           3  [oil, prices, soar, to, all-time, record, posi...\n",
       "...       ...                                                ...\n",
       "119995      1  [pakistan, 's, musharraf, says, wo, n't, quit,...\n",
       "119996      2  [renteria, signing, a, top-shelf, deal, red, s...\n",
       "119997      2  [saban, not, going, to, dolphins, yet, the, mi...\n",
       "119998      2  [today, 's, nfl, games, pittsburgh, at, ny, gi...\n",
       "119999      2  [nets, get, carter, from, raptors, indianapoli...\n",
       "\n",
       "[120000 rows x 2 columns]"
      ]
     },
     "execution_count": 3,
     "metadata": {
      "tags": []
     },
     "output_type": "execute_result"
    }
   ],
   "source": [
    "import nltk\n",
    "\n",
    "df['text'] = df['text'].str.lower()\n",
    "# tokenize the words\n",
    "df['text'] = df['text'].map(nltk.word_tokenize)\n",
    "# remove punctuation characters\n",
    "punctuation = list('()-,.')\n",
    "df['text'] = df['text'].map(lambda tokens: [token for token in tokens if token not in punctuation])\n",
    "# TODO: single occurence words\n",
    "# TODO: try different models with different word occurence thresholds\n",
    "df"
   ]
  },
  {
   "cell_type": "code",
   "execution_count": null,
   "metadata": {
    "colab": {
     "base_uri": "https://localhost:8080/",
     "height": 399
    },
    "colab_type": "code",
    "id": "lYaXjnD4P6T8",
    "outputId": "63ecc737-a062-4e78-90f8-b38be55c3afc"
   },
   "outputs": [
    {
     "data": {
      "text/plain": [
       "['wall',\n",
       " 'st.',\n",
       " 'bears',\n",
       " 'claw',\n",
       " 'back',\n",
       " 'into',\n",
       " 'the',\n",
       " 'black',\n",
       " 'reuters',\n",
       " 'reuters',\n",
       " 'short-sellers',\n",
       " 'wall',\n",
       " 'street',\n",
       " \"'s\",\n",
       " 'dwindling',\n",
       " 'band',\n",
       " 'of',\n",
       " 'ultra-cynics',\n",
       " 'are',\n",
       " 'seeing',\n",
       " 'green',\n",
       " 'again']"
      ]
     },
     "execution_count": 52,
     "metadata": {
      "tags": []
     },
     "output_type": "execute_result"
    }
   ],
   "source": [
    "df.loc[0]['text'] # get first item in pandas series"
   ]
  },
  {
   "cell_type": "markdown",
   "metadata": {
    "colab_type": "text",
    "id": "zOH6fR6M7T9L"
   },
   "source": [
    "## Training a New Gensim Model"
   ]
  },
  {
   "cell_type": "code",
   "execution_count": null,
   "metadata": {
    "colab": {},
    "colab_type": "code",
    "id": "BFRsa6TosmLp"
   },
   "outputs": [],
   "source": [
    "import gensim.models\n",
    "model2 = gensim.models.Word2Vec(sentences=pdocs,size=150,window=3)"
   ]
  },
  {
   "cell_type": "code",
   "execution_count": null,
   "metadata": {
    "colab": {
     "base_uri": "https://localhost:8080/",
     "height": 676
    },
    "colab_type": "code",
    "id": "GlQW3wAKsmLt",
    "outputId": "a3384805-506e-4a28-dcbe-4834311db7cc"
   },
   "outputs": [
    {
     "data": {
      "text/plain": [
       "array([ 3.2509055e-03, -2.8211824e-03,  2.1064635e-03,  4.5263578e-04,\n",
       "       -1.8984306e-03, -9.5855509e-04, -2.5109819e-03,  2.0845050e-03,\n",
       "       -1.4815198e-03,  1.2566762e-03,  2.9971008e-03,  1.0236441e-03,\n",
       "        3.1448288e-03,  2.4817209e-03,  1.4293914e-03, -2.9565513e-03,\n",
       "       -3.1111999e-03,  3.3179009e-03, -5.6394364e-04, -2.9374827e-03,\n",
       "        2.1319862e-03, -1.6192439e-03,  9.9124084e-04,  9.1488229e-04,\n",
       "       -7.8270171e-04, -2.8831763e-03,  5.1643484e-04,  3.1044246e-03,\n",
       "        2.6008254e-03, -1.5203892e-03, -1.2993389e-03, -1.8539869e-03,\n",
       "       -2.4088188e-03, -1.5159698e-03,  2.5969599e-03,  1.4008279e-03,\n",
       "        2.7841676e-03, -2.9522758e-03, -1.3177737e-03, -1.8715435e-04,\n",
       "       -1.3875922e-03, -1.7583688e-03, -1.6335399e-03,  2.9081446e-03,\n",
       "        4.2877040e-05, -2.9368999e-03,  1.2899737e-03, -1.5002734e-03,\n",
       "        4.7450754e-04,  2.8122670e-03, -3.0747617e-03,  1.6120430e-03,\n",
       "        1.6610948e-03, -1.5994621e-03,  9.9547533e-04,  8.6759072e-04,\n",
       "       -2.5415875e-03, -9.2496467e-04, -9.6984493e-04, -5.0177041e-04,\n",
       "       -1.8207696e-03,  2.0163865e-03, -3.1663585e-03, -2.8887517e-03,\n",
       "        4.8259841e-04, -2.0243500e-03,  1.0577705e-03,  2.5305748e-03,\n",
       "       -7.4095913e-04,  7.3825875e-05, -1.2330629e-03, -3.6086331e-04,\n",
       "        4.7039584e-04, -2.7945789e-03,  1.1711967e-03,  1.5968955e-03,\n",
       "        1.3269550e-03,  1.2806506e-03, -1.8462025e-03, -3.0504251e-03,\n",
       "        1.5907210e-03, -9.7426324e-05, -2.6735922e-03, -3.5390290e-04,\n",
       "        5.2190427e-04, -8.2574371e-04,  1.4752976e-03,  2.5176324e-03,\n",
       "        3.1359936e-03,  2.2963865e-03, -2.2415509e-03, -1.5256130e-03,\n",
       "       -1.6759048e-03,  2.3658022e-04,  3.2863775e-03,  3.2697979e-03,\n",
       "        2.1474115e-03,  3.1124593e-03, -1.9773855e-03, -2.8435721e-03,\n",
       "       -4.4709345e-04,  2.2735766e-03,  1.0798798e-03,  2.0198498e-03,\n",
       "       -2.9374049e-03,  7.4189535e-04,  2.8119730e-03, -2.7523418e-03,\n",
       "       -1.6664730e-03, -2.5204583e-03, -3.7778405e-04,  1.1886245e-03,\n",
       "       -2.0473329e-03,  1.1835290e-03,  1.2430520e-03, -2.7740032e-03,\n",
       "       -2.1582155e-03, -8.5497141e-04,  2.6544561e-03, -2.5430319e-03,\n",
       "        2.8535395e-03, -2.5538167e-03,  2.4322646e-03, -1.2410590e-03,\n",
       "       -3.1408344e-03,  2.3447353e-04, -2.8981806e-03,  2.6446509e-03,\n",
       "        3.2236536e-03, -1.3203118e-03, -3.3993524e-04,  2.1435923e-03,\n",
       "        2.0413343e-03,  2.8102146e-03, -4.9784448e-04, -1.7139710e-03,\n",
       "       -2.3645903e-03,  2.6857657e-03,  3.2903110e-03,  2.6648301e-03,\n",
       "       -3.0203941e-03,  2.3520950e-03,  1.4674240e-04,  2.7013754e-03,\n",
       "       -1.5133889e-03, -3.2149546e-03, -2.9832385e-03, -1.0451904e-03,\n",
       "       -3.2612474e-03, -2.6375244e-03], dtype=float32)"
      ]
     },
     "execution_count": 178,
     "metadata": {
      "tags": []
     },
     "output_type": "execute_result"
    }
   ],
   "source": [
    "man = model2.wv['man']\n",
    "man"
   ]
  },
  {
   "cell_type": "code",
   "execution_count": null,
   "metadata": {
    "colab": {
     "base_uri": "https://localhost:8080/",
     "height": 35
    },
    "colab_type": "code",
    "id": "PFZRChNysmLy",
    "outputId": "7be901a0-626e-4c83-a7a8-8f20b457dbec"
   },
   "outputs": [
    {
     "data": {
      "text/plain": [
       "150"
      ]
     },
     "execution_count": 179,
     "metadata": {
      "tags": []
     },
     "output_type": "execute_result"
    }
   ],
   "source": [
    "len(man)"
   ]
  },
  {
   "cell_type": "code",
   "execution_count": null,
   "metadata": {
    "colab": {
     "base_uri": "https://localhost:8080/",
     "height": 676
    },
    "colab_type": "code",
    "id": "70iir8Z0smL1",
    "outputId": "7cefa7da-8d2b-42b1-c56e-9a3b833e8a71"
   },
   "outputs": [
    {
     "data": {
      "text/plain": [
       "array([-4.5831362e-04,  1.7943901e-03, -1.0849633e-03,  3.6658281e-03,\n",
       "       -1.9438170e-03,  1.8894003e-03,  4.8327614e-03,  6.8830402e-04,\n",
       "       -2.4006120e-04, -1.1913328e-03, -2.8672214e-03, -2.2891238e-03,\n",
       "       -8.9808200e-03, -6.8256971e-03, -4.5325798e-03,  2.5954146e-03,\n",
       "        6.2398138e-03,  2.3849374e-03, -3.1278231e-03,  2.4854522e-03,\n",
       "       -1.3595591e-03,  6.3375956e-03,  2.3039354e-03, -2.4595552e-03,\n",
       "        3.4993282e-03, -1.8384317e-03, -4.3743346e-03, -8.4173083e-03,\n",
       "        2.7702504e-04,  6.2006479e-03,  9.9041546e-04,  1.8551780e-03,\n",
       "        7.5399885e-03,  1.3509777e-04,  1.7374707e-04, -1.4108573e-03,\n",
       "       -2.8678887e-03,  6.0379244e-03,  3.7507899e-03,  1.8262832e-03,\n",
       "        6.1136112e-04,  1.6130289e-03,  5.4569445e-03, -2.0520685e-03,\n",
       "        4.4538814e-04, -3.1106679e-03, -9.1901864e-04, -1.5878899e-03,\n",
       "       -1.6523319e-03, -8.2760239e-03,  2.1716573e-03, -4.1763554e-04,\n",
       "        1.2504752e-05, -5.2194705e-04, -3.4555881e-03, -4.3756757e-03,\n",
       "        2.4744766e-03,  3.4948969e-03,  7.0503983e-04,  1.2186364e-03,\n",
       "        5.0326274e-04,  7.3448988e-04,  4.3168007e-03,  2.5357176e-03,\n",
       "       -4.2687296e-03,  2.4612225e-03,  2.1556155e-03, -1.2129163e-03,\n",
       "       -9.6920063e-04,  8.1072235e-04, -2.5587188e-04, -9.8772859e-04,\n",
       "       -4.9404660e-03,  7.3758652e-03,  2.8818063e-03,  4.6417075e-03,\n",
       "        2.1013282e-03, -4.3858606e-03,  6.9947578e-03,  3.9215852e-03,\n",
       "       -4.4920831e-03,  3.2103553e-03,  2.0550627e-03,  3.3208518e-03,\n",
       "       -5.9507294e-03,  3.9487854e-03,  1.5702330e-03, -5.4891948e-03,\n",
       "       -3.8820656e-03,  1.2245878e-03, -1.4757192e-03,  2.2790893e-03,\n",
       "        2.0978632e-03,  6.5455033e-04, -5.1089693e-03, -3.2501714e-03,\n",
       "       -6.8522864e-03, -4.0088403e-03, -5.6025508e-04,  4.0743622e-04,\n",
       "        3.6305133e-03, -4.2791842e-03,  4.7560586e-03, -5.1367497e-03,\n",
       "        3.4103645e-03,  3.5086912e-03, -4.3261750e-03,  3.2285708e-03,\n",
       "       -9.5629599e-05, -1.4762930e-04, -1.4464890e-03,  1.7629138e-03,\n",
       "       -1.0146303e-03, -4.7199312e-03, -7.4314671e-03,  3.2678158e-03,\n",
       "        2.0272711e-03, -2.3703324e-05, -3.8539565e-03,  7.8913933e-03,\n",
       "       -6.1903084e-03, -9.6777210e-04, -2.2671614e-03,  1.6209192e-03,\n",
       "        3.1500608e-03, -5.8954000e-04,  2.8878707e-03, -6.5980004e-03,\n",
       "       -3.6028153e-03, -2.8246269e-03, -3.1499616e-03, -2.7605752e-04,\n",
       "       -2.3971603e-03, -3.0418052e-03,  4.5842342e-03, -1.6938172e-03,\n",
       "       -2.8635752e-03, -7.9879286e-03, -4.6203705e-04,  7.5845176e-04,\n",
       "        6.0194153e-03,  2.3092488e-03, -2.8196457e-03, -3.2138277e-03,\n",
       "       -2.2896221e-03,  1.3811048e-03,  6.2400708e-03,  3.4409086e-03,\n",
       "        5.2302936e-03,  5.7249833e-03], dtype=float32)"
      ]
     },
     "execution_count": 180,
     "metadata": {
      "tags": []
     },
     "output_type": "execute_result"
    }
   ],
   "source": [
    "linreg2 = model2.wv['king'] - model2.wv['man'] + model2.wv['woman']\n",
    "linreg2"
   ]
  },
  {
   "cell_type": "code",
   "execution_count": null,
   "metadata": {
    "colab": {
     "base_uri": "https://localhost:8080/",
     "height": 104
    },
    "colab_type": "code",
    "id": "fPnS7UO0smL4",
    "outputId": "9b59808b-9afa-48a0-f596-179fc61babcd"
   },
   "outputs": [
    {
     "data": {
      "text/plain": [
       "[('king', 0.6251064538955688),\n",
       " ('woman', 0.5951869487762451),\n",
       " ('groundless', 0.34853577613830566),\n",
       " ('yale', 0.33714425563812256),\n",
       " ('oversupply', 0.3125631809234619)]"
      ]
     },
     "execution_count": 181,
     "metadata": {
      "tags": []
     },
     "output_type": "execute_result"
    }
   ],
   "source": [
    "model2.wv.similar_by_vector(linreg2, topn=5)"
   ]
  },
  {
   "cell_type": "code",
   "execution_count": null,
   "metadata": {
    "colab": {
     "base_uri": "https://localhost:8080/",
     "height": 35
    },
    "colab_type": "code",
    "id": "UREPeH5nsmL7",
    "outputId": "91917e18-a538-4b56-feed-9fb49716f42c"
   },
   "outputs": [
    {
     "data": {
      "text/plain": [
       "0.106377944"
      ]
     },
     "execution_count": 183,
     "metadata": {
      "tags": []
     },
     "output_type": "execute_result"
    }
   ],
   "source": [
    "model2.wv.similarity('cat', 'dog')"
   ]
  },
  {
   "cell_type": "code",
   "execution_count": null,
   "metadata": {
    "colab": {
     "base_uri": "https://localhost:8080/",
     "height": 35
    },
    "colab_type": "code",
    "id": "sHIxCQCQsmL9",
    "outputId": "74749968-bbb7-412b-965c-d49a30b34f23"
   },
   "outputs": [
    {
     "data": {
      "text/plain": [
       "0.0090275165"
      ]
     },
     "execution_count": 185,
     "metadata": {
      "tags": []
     },
     "output_type": "execute_result"
    }
   ],
   "source": [
    "model2.wv.similarity('laptop', 'pen')"
   ]
  },
  {
   "cell_type": "code",
   "execution_count": null,
   "metadata": {
    "colab": {
     "base_uri": "https://localhost:8080/",
     "height": 191
    },
    "colab_type": "code",
    "id": "_BEVubU3smMB",
    "outputId": "9e218cec-76a0-4006-ef54-9f962144d468"
   },
   "outputs": [
    {
     "data": {
      "text/plain": [
       "[('hispanics', 0.3065454363822937),\n",
       " ('9.', 0.29615408182144165),\n",
       " ('fernandes', 0.2893978953361511),\n",
       " ('bitter', 0.286759614944458),\n",
       " ('rochester', 0.28672346472740173),\n",
       " ('probe', 0.28386253118515015),\n",
       " ('arvinmeritor', 0.2830011248588562),\n",
       " ('cameras', 0.28089964389801025),\n",
       " ('adelaide', 0.27515557408332825),\n",
       " ('101-89', 0.2722257375717163)]"
      ]
     },
     "execution_count": 186,
     "metadata": {
      "tags": []
     },
     "output_type": "execute_result"
    }
   ],
   "source": [
    "model2.wv.most_similar(positive='computer', topn=10)"
   ]
  },
  {
   "cell_type": "code",
   "execution_count": null,
   "metadata": {
    "colab": {
     "base_uri": "https://localhost:8080/",
     "height": 191
    },
    "colab_type": "code",
    "id": "opkIPswYsmMD",
    "outputId": "d701a82f-6f68-43a6-8e80-7a430b27ac8b"
   },
   "outputs": [
    {
     "data": {
      "text/plain": [
       "[('posh', 0.37937071919441223),\n",
       " ('escape', 0.3036438822746277),\n",
       " ('bellwethers', 0.29790356755256653),\n",
       " ('big-box', 0.29750657081604004),\n",
       " ('hostagesa', 0.29717475175857544),\n",
       " ('molyneux', 0.2963765263557434),\n",
       " ('lasers', 0.2927957773208618),\n",
       " ('involve', 0.28801554441452026),\n",
       " ('amend', 0.28691235184669495),\n",
       " ('ailing', 0.28640615940093994)]"
      ]
     },
     "execution_count": 187,
     "metadata": {
      "tags": []
     },
     "output_type": "execute_result"
    }
   ],
   "source": [
    "model2.wv.most_similar(positive='well', topn=10)"
   ]
  },
  {
   "cell_type": "code",
   "execution_count": null,
   "metadata": {
    "colab": {
     "base_uri": "https://localhost:8080/",
     "height": 676
    },
    "colab_type": "code",
    "id": "kTnC3jw6smMG",
    "outputId": "c9dd4192-ecca-45e5-9b6b-eea4ce707f90"
   },
   "outputs": [
    {
     "data": {
      "text/plain": [
       "array([ 1.1479368e-03, -2.4079403e-03, -4.9619010e-04,  1.5037350e-03,\n",
       "        1.3790226e-03, -1.1881487e-03,  1.5467856e-03, -2.4782766e-03,\n",
       "        2.0045780e-03,  2.6837839e-03,  8.9596020e-04,  2.0545612e-04,\n",
       "        3.3361419e-05, -3.2280125e-03,  2.1660682e-04,  1.8908661e-03,\n",
       "       -2.7937668e-03, -9.1295701e-04,  1.2244526e-03, -1.7019815e-03,\n",
       "        1.1126240e-04, -1.1412264e-03, -1.6519691e-04,  1.0293021e-03,\n",
       "       -1.6817378e-03, -8.8374567e-04, -3.1548322e-03,  3.0989235e-03,\n",
       "        1.6921433e-03, -8.7498724e-05,  1.8064344e-04,  4.5123208e-05,\n",
       "        1.4353594e-03,  1.4449963e-03, -2.6342510e-03, -3.4319999e-04,\n",
       "       -6.8458990e-04, -3.0170439e-03,  9.9217659e-04, -2.7559176e-03,\n",
       "       -2.3012394e-04,  7.4092677e-04, -2.5331182e-04, -1.8785077e-03,\n",
       "       -2.5004339e-03, -3.1861113e-03, -1.5018584e-03,  1.3704825e-03,\n",
       "        3.1138228e-03,  2.4719043e-03, -1.7110386e-03, -1.0245235e-03,\n",
       "        1.4564411e-03,  1.6948051e-03,  3.1315188e-03,  2.4516005e-03,\n",
       "        3.1602373e-03, -4.9441197e-04,  2.9530181e-03, -2.4723632e-03,\n",
       "       -4.1407597e-04, -2.6678138e-03,  2.7798777e-03,  2.2234394e-04,\n",
       "       -1.7711634e-03,  5.7914923e-04, -2.1962498e-04,  4.2085108e-04,\n",
       "        2.9405400e-03,  1.7733882e-04,  1.6193239e-03, -1.0243297e-04,\n",
       "       -8.5255911e-04, -4.4156626e-04,  2.8787912e-03,  1.0115068e-03,\n",
       "        1.5756423e-03,  7.3807867e-04,  1.4968476e-03,  3.0862135e-03,\n",
       "        1.9292044e-03, -2.7274672e-04, -7.9614524e-04,  2.9239873e-03,\n",
       "        3.7739991e-04,  1.1278095e-03, -2.7860601e-03, -2.9661215e-03,\n",
       "       -8.6799060e-04, -1.8637092e-03,  2.0536967e-03,  3.2884579e-03,\n",
       "        2.7737273e-05, -1.5398712e-03,  1.8340475e-03,  8.7326189e-05,\n",
       "        2.9404899e-03,  1.3119529e-03,  2.8910313e-03,  2.6536611e-04,\n",
       "       -7.9806015e-04, -2.2641176e-03,  2.0605344e-03, -7.8768231e-04,\n",
       "        9.7208802e-05, -2.0693473e-03,  3.0551150e-03, -2.3188908e-03,\n",
       "       -1.4748843e-03, -4.2923380e-04, -2.2640708e-03, -1.9770816e-03,\n",
       "       -1.5223565e-04, -4.6162275e-04, -1.3439159e-03, -2.3157683e-03,\n",
       "       -2.0231082e-04,  2.1443178e-03, -1.1480798e-03, -2.5633634e-03,\n",
       "       -2.2341842e-03, -2.6570109e-03,  6.9289526e-04, -3.0680173e-03,\n",
       "       -2.7225303e-04, -2.5461384e-03,  2.9025290e-03, -3.1269975e-03,\n",
       "       -2.9874028e-04,  4.0285337e-05, -1.5524150e-03, -1.9780835e-03,\n",
       "        1.0526743e-03,  2.3797352e-03, -2.2135065e-03,  2.0179283e-03,\n",
       "        1.7719546e-04, -2.7902564e-04,  3.0798181e-03, -1.2624580e-03,\n",
       "       -1.8445886e-03, -1.9465070e-03,  2.7884075e-03,  1.8927710e-03,\n",
       "        1.6197746e-03, -1.1954881e-03, -1.6291525e-03,  1.5831444e-03,\n",
       "        1.5367443e-03, -7.9556438e-04], dtype=float32)"
      ]
     },
     "execution_count": 189,
     "metadata": {
      "tags": []
     },
     "output_type": "execute_result"
    }
   ],
   "source": [
    "model2.wv['tree']"
   ]
  },
  {
   "cell_type": "markdown",
   "metadata": {
    "colab_type": "text",
    "id": "yBFcbemKsmMJ"
   },
   "source": [
    "# Setup a Simple Deep Learning Classifier using Keras\n",
    "\n"
   ]
  },
  {
   "cell_type": "markdown",
   "metadata": {
    "colab_type": "text",
    "id": "_fR3zOTgu91C"
   },
   "source": [
    "## See How the Embedding Layer Works\n",
    "[Embedding layer](https://keras.io/api/layers/core_layers/embedding/)"
   ]
  },
  {
   "cell_type": "code",
   "execution_count": null,
   "metadata": {
    "colab": {
     "base_uri": "https://localhost:8080/",
     "height": 35
    },
    "colab_type": "code",
    "id": "pfMZUOfKfIfY",
    "outputId": "86508de8-34ad-4e24-a80e-efaa52ce76f4"
   },
   "outputs": [
    {
     "name": "stderr",
     "output_type": "stream",
     "text": [
      "Using TensorFlow backend.\n"
     ]
    }
   ],
   "source": [
    "import keras\n",
    "\n",
    "embedding_layer = model.get_keras_embedding(train_embeddings=False)\n",
    "basic_keras_model = keras.models.Sequential(\n",
    "    [\n",
    "        embedding_layer\n",
    "    ]\n",
    ")\n",
    "basic_keras_model.compile(loss='binary_crossentropy', optimizer='adam', metrics=['accuracy'])"
   ]
  },
  {
   "cell_type": "markdown",
   "metadata": {
    "colab_type": "text",
    "id": "R6kWJgn06tcj"
   },
   "source": [
    "Check if the keras predicted vector is equal to the real vector"
   ]
  },
  {
   "cell_type": "code",
   "execution_count": null,
   "metadata": {
    "colab": {
     "base_uri": "https://localhost:8080/",
     "height": 35
    },
    "colab_type": "code",
    "id": "teWPNMFByZSd",
    "outputId": "ed2639aa-7873-4ce3-9c52-cc6695fc3cf6"
   },
   "outputs": [
    {
     "data": {
      "text/plain": [
       "True"
      ]
     },
     "execution_count": 54,
     "metadata": {
      "tags": []
     },
     "output_type": "execute_result"
    }
   ],
   "source": [
    "my_words = \"cat dog\".split()\n",
    "my_words_id = [model.vocab[word].index for word in my_words]\n",
    "\n",
    "cat_id = my_words_id[my_words.index(\"cat\")]\n",
    "\n",
    "keras_predicted = basic_keras_model.predict([cat_id])[0,0] # id for cat\n",
    "(model[\"cat\"] == keras_predicted).all()"
   ]
  },
  {
   "cell_type": "code",
   "execution_count": null,
   "metadata": {
    "colab": {},
    "colab_type": "code",
    "id": "sEgGogfJkgUA"
   },
   "outputs": [],
   "source": [
    "dog_id = my_words_id[my_words.index(\"dog\")]\n",
    "\n",
    "basic_keras_model.predict([cat_id, dog_id])[0,0]"
   ]
  },
  {
   "cell_type": "markdown",
   "metadata": {
    "colab_type": "text",
    "id": "YdHIOQNc_q3_"
   },
   "source": [
    "## Prepare the Data Set\n",
    "Only use instances where the class is either 3 or 4."
   ]
  },
  {
   "cell_type": "code",
   "execution_count": null,
   "metadata": {
    "colab": {
     "base_uri": "https://localhost:8080/",
     "height": 35
    },
    "colab_type": "code",
    "id": "tWaTpQYBuUFg",
    "outputId": "b600a501-5dba-44f3-88d4-6b98fb67ddda"
   },
   "outputs": [
    {
     "name": "stderr",
     "output_type": "stream",
     "text": [
      "Using TensorFlow backend.\n"
     ]
    }
   ],
   "source": [
    "import keras\n",
    "import numpy as np\n",
    "\n",
    "INPUT_LENGTH = 100\n",
    "VALIDATION_SPLIT = 0.2\n",
    "\n",
    "def to_token_id(tokens):\n",
    "    return [model.vocab[token].index for token in tokens if token in model.vocab]\n",
    "\n",
    "# choose elements with class 3 or 4\n",
    "df = df[(df['class'] == 3) | (df['class'] == 4)]\n",
    "\n",
    "labels = df['class'].to_numpy()\n",
    "labels[labels == 3] = 0\n",
    "labels[labels == 4] = 1\n",
    "\n",
    "data = df['text'].apply(to_token_id)\n",
    "# make sequences same length\n",
    "data = keras.preprocessing.sequence.pad_sequences(data, maxlen=INPUT_LENGTH)\n",
    "\n",
    "indices = np.arange(data.shape[0])\n",
    "np.random.shuffle(indices)\n",
    "\n",
    "data = data[indices]\n",
    "labels = labels[indices]\n",
    "\n",
    "nb_validation_samples = int(VALIDATION_SPLIT * data.shape[0])\n",
    "\n",
    "x_train = data[:-nb_validation_samples]\n",
    "y_train = labels[:-nb_validation_samples]\n",
    "x_val = data[-nb_validation_samples:]\n",
    "y_val = labels[-nb_validation_samples:]"
   ]
  },
  {
   "cell_type": "markdown",
   "metadata": {
    "colab_type": "text",
    "id": "dPxEePYvKZAv"
   },
   "source": [
    "Look at the shape of the data set\n",
    "\n"
   ]
  },
  {
   "cell_type": "code",
   "execution_count": null,
   "metadata": {
    "colab": {
     "base_uri": "https://localhost:8080/",
     "height": 34
    },
    "colab_type": "code",
    "id": "DAJpOTmmKNQG",
    "outputId": "fc0267b7-0fa5-4a8f-ead8-093603a2b3b5"
   },
   "outputs": [
    {
     "data": {
      "text/plain": [
       "((48000, 100), (48000,), (12000, 100), (12000,))"
      ]
     },
     "execution_count": 13,
     "metadata": {
      "tags": []
     },
     "output_type": "execute_result"
    }
   ],
   "source": [
    "x_train.shape, y_train.shape, x_val.shape, y_val.shape"
   ]
  },
  {
   "cell_type": "code",
   "execution_count": null,
   "metadata": {
    "colab": {
     "base_uri": "https://localhost:8080/",
     "height": 34
    },
    "colab_type": "code",
    "id": "sMkFCpKoreyW",
    "outputId": "7c280c02-ebba-4a74-986b-6ab24c3ac75c"
   },
   "outputs": [
    {
     "data": {
      "text/plain": [
       "23998"
      ]
     },
     "execution_count": 14,
     "metadata": {
      "tags": []
     },
     "output_type": "execute_result"
    }
   ],
   "source": [
    "sum(y_train)"
   ]
  },
  {
   "cell_type": "code",
   "execution_count": null,
   "metadata": {
    "colab": {
     "base_uri": "https://localhost:8080/",
     "height": 34
    },
    "colab_type": "code",
    "id": "2BumgnE9rwR1",
    "outputId": "7784d6c1-72e5-4bcf-f5c6-2542c961843d"
   },
   "outputs": [
    {
     "data": {
      "text/plain": [
       "6002"
      ]
     },
     "execution_count": 15,
     "metadata": {
      "tags": []
     },
     "output_type": "execute_result"
    }
   ],
   "source": [
    "sum(y_val)"
   ]
  },
  {
   "cell_type": "markdown",
   "metadata": {
    "colab_type": "text",
    "id": "9Fo1QX_mjakh"
   },
   "source": [
    "## Train a Classifier Model"
   ]
  },
  {
   "cell_type": "code",
   "execution_count": null,
   "metadata": {
    "colab": {
     "base_uri": "https://localhost:8080/",
     "height": 289
    },
    "colab_type": "code",
    "id": "kHKTVB3vNJ-Y",
    "outputId": "bd2331b4-2bea-4faa-a994-b4c2fc88662a"
   },
   "outputs": [
    {
     "name": "stdout",
     "output_type": "stream",
     "text": [
      "Model: \"sequential_1\"\n",
      "_________________________________________________________________\n",
      "Layer (type)                 Output Shape              Param #   \n",
      "=================================================================\n",
      "embedding_1 (Embedding)      (None, 100, 300)          900000000 \n",
      "_________________________________________________________________\n",
      "dense_1 (Dense)              (None, 100, 8)            2408      \n",
      "_________________________________________________________________\n",
      "flatten_1 (Flatten)          (None, 800)               0         \n",
      "_________________________________________________________________\n",
      "dense_2 (Dense)              (None, 1)                 801       \n",
      "=================================================================\n",
      "Total params: 900,003,209\n",
      "Trainable params: 3,209\n",
      "Non-trainable params: 900,000,000\n",
      "_________________________________________________________________\n"
     ]
    }
   ],
   "source": [
    "input_dim = x_train.shape[1]\n",
    "\n",
    "embedding_layer = model.get_keras_embedding(train_embeddings=False)\n",
    "embedding_layer.input_length = INPUT_LENGTH\n",
    "\n",
    "classifier_keras_model = keras.models.Sequential(\n",
    "    [\n",
    "        embedding_layer,\n",
    "        keras.layers.Dense(units=16, activation='relu'),\n",
    "        keras.layers.Flatten(),\n",
    "        keras.layers.Dense(units=1, activation='sigmoid'),\n",
    "    ]\n",
    ")\n",
    "\n",
    "classifier_keras_model.compile(loss='binary_crossentropy', optimizer='adam', metrics=['accuracy'])\n",
    "classifier_keras_model.summary()"
   ]
  },
  {
   "cell_type": "code",
   "execution_count": null,
   "metadata": {
    "colab": {
     "base_uri": "https://localhost:8080/",
     "height": 381
    },
    "colab_type": "code",
    "id": "9ezOsyDlOpRq",
    "outputId": "08fae558-332c-4e1e-b4cc-83aabe058d98"
   },
   "outputs": [
    {
     "name": "stdout",
     "output_type": "stream",
     "text": [
      "Train on 48000 samples, validate on 12000 samples\n",
      "Epoch 1/10\n",
      "48000/48000 [==============================] - 12s 255us/step - loss: 0.2066 - accuracy: 0.9205 - val_loss: 0.2486 - val_accuracy: 0.9051\n",
      "Epoch 2/10\n",
      "48000/48000 [==============================] - 12s 241us/step - loss: 0.1992 - accuracy: 0.9244 - val_loss: 0.2499 - val_accuracy: 0.9047\n",
      "Epoch 3/10\n",
      "48000/48000 [==============================] - 12s 246us/step - loss: 0.1921 - accuracy: 0.9259 - val_loss: 0.2517 - val_accuracy: 0.9043\n",
      "Epoch 4/10\n",
      "48000/48000 [==============================] - 12s 245us/step - loss: 0.1865 - accuracy: 0.9285 - val_loss: 0.2554 - val_accuracy: 0.9033\n",
      "Epoch 5/10\n",
      "48000/48000 [==============================] - 12s 243us/step - loss: 0.1808 - accuracy: 0.9308 - val_loss: 0.2622 - val_accuracy: 0.9018\n",
      "Epoch 6/10\n",
      "48000/48000 [==============================] - 12s 242us/step - loss: 0.1770 - accuracy: 0.9325 - val_loss: 0.2625 - val_accuracy: 0.8985\n",
      "Epoch 7/10\n",
      "48000/48000 [==============================] - 13s 265us/step - loss: 0.1730 - accuracy: 0.9341 - val_loss: 0.2656 - val_accuracy: 0.9016\n",
      "Epoch 8/10\n",
      "48000/48000 [==============================] - 12s 258us/step - loss: 0.1693 - accuracy: 0.9344 - val_loss: 0.2684 - val_accuracy: 0.8989\n",
      "Epoch 9/10\n",
      "48000/48000 [==============================] - 12s 257us/step - loss: 0.1661 - accuracy: 0.9364 - val_loss: 0.2731 - val_accuracy: 0.8981\n",
      "Epoch 10/10\n",
      "48000/48000 [==============================] - 12s 253us/step - loss: 0.1624 - accuracy: 0.9379 - val_loss: 0.2810 - val_accuracy: 0.8973\n"
     ]
    }
   ],
   "source": [
    "history = classifier_keras_model.fit(x_train, y_train, epochs=10, verbose=1, validation_data=(x_val, y_val), batch_size=10)"
   ]
  },
  {
   "cell_type": "code",
   "execution_count": null,
   "metadata": {
    "colab": {},
    "colab_type": "code",
    "id": "QYOg5sZncSD4"
   },
   "outputs": [],
   "source": [
    "classifier_keras_model.save('models/first-steps/classifier(inputl 30, l1units 16, epochs 10, batch_s 10)')"
   ]
  },
  {
   "cell_type": "code",
   "execution_count": null,
   "metadata": {
    "colab": {
     "base_uri": "https://localhost:8080/",
     "height": 295
    },
    "colab_type": "code",
    "id": "gsrtWUDMaMgO",
    "outputId": "3379f3ab-5339-4c88-8b1e-ac5daf5fb66c"
   },
   "outputs": [
    {
     "data": {
      "image/png": "[encoded data removed]",
      "text/plain": [
       "<Figure size 432x288 with 1 Axes>"
      ]
     },
     "metadata": {
      "needs_background": "light",
      "tags": []
     },
     "output_type": "display_data"
    }
   ],
   "source": [
    "import matplotlib.pyplot as plt\n",
    "plt.plot(history.history['accuracy'])\n",
    "plt.plot(history.history['val_accuracy'])\n",
    "plt.title('model accuracy')\n",
    "plt.ylabel('accuracy')\n",
    "plt.xlabel('epoch')\n",
    "plt.legend(['train', 'test'], loc='upper left')\n",
    "plt.show()"
   ]
  },
  {
   "cell_type": "code",
   "execution_count": null,
   "metadata": {
    "colab": {
     "base_uri": "https://localhost:8080/",
     "height": 225
    },
    "colab_type": "code",
    "id": "QDkN0IIVaqml",
    "outputId": "fc7527af-06f4-42dd-abdb-0150767acec4"
   },
   "outputs": [
    {
     "data": {
      "text/plain": [
       "array([[    0,     0,     0,     0,     0,     0,     0,     0,     0,\n",
       "            0,     0,     0,     0,     0,     0,     0,     0,     0,\n",
       "            0,     0,     0,     0,     0,     0,     0,     0,     0,\n",
       "            0,     0,     0,     0,     0,     0,     0,     0,     0,\n",
       "            0,     0,     0,     0,     0,     0,     0,     0,     0,\n",
       "            0,     0,     0,     0,     0,     0,     0,     0,     0,\n",
       "            0,     0,     0,     0,     0,     0,     0,     0,     0,\n",
       "            0,     0,     0,     0,     0,     0,     0,     0,     0,\n",
       "            0,     0,     0,     0,     0,     0,     0,     0,     0,\n",
       "            0,     0,  2334,  7590, 22993,    95,    69,    11,   987,\n",
       "        62605, 62605,  2334,  1482, 14260,  1493,    19,  1642,  1516,\n",
       "          333]])"
      ]
     },
     "execution_count": 114,
     "metadata": {
      "tags": []
     },
     "output_type": "execute_result"
    }
   ],
   "source": [
    "text1 = df['text'].loc[0]\n",
    "text1 = to_token_id(text1)\n",
    "text1 = keras.preprocessing.sequence.pad_sequences([text1], maxlen=INPUT_LENGTH)\n",
    "text1"
   ]
  },
  {
   "cell_type": "code",
   "execution_count": null,
   "metadata": {
    "colab": {
     "base_uri": "https://localhost:8080/",
     "height": 35
    },
    "colab_type": "code",
    "id": "f6vEY-_xZ4XG",
    "outputId": "684b4b1c-01ba-4446-cfb8-ca196fb18b3b"
   },
   "outputs": [
    {
     "data": {
      "text/plain": [
       "array([[0.52227056]], dtype=float32)"
      ]
     },
     "execution_count": 115,
     "metadata": {
      "tags": []
     },
     "output_type": "execute_result"
    }
   ],
   "source": [
    "classifier_keras_model.predict(text1)"
   ]
  },
  {
   "cell_type": "markdown",
   "metadata": {
    "colab_type": "text",
    "id": "BAdAtfikJQGE"
   },
   "source": [
    "## Train Model with Updated Parameters"
   ]
  },
  {
   "cell_type": "code",
   "execution_count": null,
   "metadata": {
    "colab": {
     "base_uri": "https://localhost:8080/",
     "height": 295
    },
    "colab_type": "code",
    "id": "5If9eOnoJWwa",
    "outputId": "2d3ba503-7a08-4816-bcac-38f72b8a0835"
   },
   "outputs": [
    {
     "name": "stdout",
     "output_type": "stream",
     "text": [
      "Model: \"sequential_1\"\n",
      "_________________________________________________________________\n",
      "Layer (type)                 Output Shape              Param #   \n",
      "=================================================================\n",
      "embedding_1 (Embedding)      (None, 100, 300)          900000000 \n",
      "_________________________________________________________________\n",
      "dense_1 (Dense)              (None, 100, 8)            2408      \n",
      "_________________________________________________________________\n",
      "flatten_1 (Flatten)          (None, 800)               0         \n",
      "_________________________________________________________________\n",
      "dense_2 (Dense)              (None, 1)                 801       \n",
      "=================================================================\n",
      "Total params: 900,003,209\n",
      "Trainable params: 3,209\n",
      "Non-trainable params: 900,000,000\n",
      "_________________________________________________________________\n"
     ]
    }
   ],
   "source": [
    "import keras\n",
    "\n",
    "embedding_layer = model.get_keras_embedding(train_embeddings=False)\n",
    "embedding_layer.input_length = INPUT_LENGTH\n",
    "\n",
    "classifier2 = keras.Sequential(\n",
    "    [\n",
    "        embedding_layer,\n",
    "        keras.layers.Dense(units=8, activation='relu'),\n",
    "        keras.layers.Flatten(),\n",
    "        keras.layers.Dense(units=1, activation='sigmoid'),\n",
    "    ]\n",
    ")\n",
    "classifier2.compile(loss='binary_crossentropy', optimizer='adam', metrics=['accuracy'])\n",
    "classifier2.summary()"
   ]
  },
  {
   "cell_type": "code",
   "execution_count": null,
   "metadata": {
    "colab": {
     "base_uri": "https://localhost:8080/",
     "height": 381
    },
    "colab_type": "code",
    "id": "4ulBvQCkL9hl",
    "outputId": "5f3a5791-af22-467a-fbe2-da120e85abcc"
   },
   "outputs": [
    {
     "name": "stdout",
     "output_type": "stream",
     "text": [
      "Train on 48000 samples, validate on 12000 samples\n",
      "Epoch 1/10\n",
      "48000/48000 [==============================] - 25s 514us/step - loss: 0.2909 - accuracy: 0.8827 - val_loss: 0.2647 - val_accuracy: 0.8965\n",
      "Epoch 2/10\n",
      "48000/48000 [==============================] - 11s 230us/step - loss: 0.2469 - accuracy: 0.9035 - val_loss: 0.2448 - val_accuracy: 0.9056\n",
      "Epoch 3/10\n",
      "48000/48000 [==============================] - 10s 207us/step - loss: 0.2353 - accuracy: 0.9088 - val_loss: 0.2411 - val_accuracy: 0.9082\n",
      "Epoch 4/10\n",
      "48000/48000 [==============================] - 10s 210us/step - loss: 0.2273 - accuracy: 0.9120 - val_loss: 0.2441 - val_accuracy: 0.9038\n",
      "Epoch 5/10\n",
      "48000/48000 [==============================] - 10s 214us/step - loss: 0.2207 - accuracy: 0.9151 - val_loss: 0.2432 - val_accuracy: 0.9054\n",
      "Epoch 6/10\n",
      "48000/48000 [==============================] - 11s 223us/step - loss: 0.2160 - accuracy: 0.9164 - val_loss: 0.2415 - val_accuracy: 0.9079\n",
      "Epoch 7/10\n",
      "48000/48000 [==============================] - 11s 220us/step - loss: 0.2129 - accuracy: 0.9183 - val_loss: 0.2407 - val_accuracy: 0.9082\n",
      "Epoch 8/10\n",
      "48000/48000 [==============================] - 11s 223us/step - loss: 0.2093 - accuracy: 0.9197 - val_loss: 0.2421 - val_accuracy: 0.9068\n",
      "Epoch 9/10\n",
      "48000/48000 [==============================] - 10s 218us/step - loss: 0.2066 - accuracy: 0.9210 - val_loss: 0.2443 - val_accuracy: 0.9082\n",
      "Epoch 10/10\n",
      "48000/48000 [==============================] - 11s 236us/step - loss: 0.2038 - accuracy: 0.9220 - val_loss: 0.2427 - val_accuracy: 0.9068\n"
     ]
    }
   ],
   "source": [
    "history2 = classifier2.fit(x_train, y_train, epochs=10, verbose=1, validation_data=(x_val, y_val), batch_size=10)"
   ]
  },
  {
   "cell_type": "code",
   "execution_count": null,
   "metadata": {
    "colab": {
     "base_uri": "https://localhost:8080/",
     "height": 295
    },
    "colab_type": "code",
    "id": "6_LIy2ZnMmHY",
    "outputId": "ed0c271c-ac4c-44b2-9624-8de63d1e9646"
   },
   "outputs": [
    {
     "data": {
      "image/png": "[encoded data removed]",
      "text/plain": [
       "<Figure size 432x288 with 1 Axes>"
      ]
     },
     "metadata": {
      "needs_background": "light",
      "tags": []
     },
     "output_type": "display_data"
    }
   ],
   "source": [
    "import matplotlib.pyplot as plt\n",
    "plt.plot(history2.history['accuracy'])\n",
    "plt.plot(history2.history['val_accuracy'])\n",
    "plt.title('model accuracy')\n",
    "plt.ylabel('accuracy')\n",
    "plt.xlabel('epoch')\n",
    "plt.legend(['train', 'test'], loc='upper left')\n",
    "plt.show()"
   ]
  },
  {
   "cell_type": "code",
   "execution_count": null,
   "metadata": {
    "colab": {
     "base_uri": "https://localhost:8080/",
     "height": 728
    },
    "colab_type": "code",
    "id": "cQH3itReM5aK",
    "outputId": "b817be3f-e739-4a3c-fb78-7e6e36298fc1"
   },
   "outputs": [
    {
     "name": "stdout",
     "output_type": "stream",
     "text": [
      "Train on 48000 samples, validate on 12000 samples\n",
      "Epoch 1/20\n",
      "48000/48000 [==============================] - 11s 222us/step - loss: 0.2021 - accuracy: 0.9226 - val_loss: 0.2430 - val_accuracy: 0.9073\n",
      "Epoch 2/20\n",
      "48000/48000 [==============================] - 11s 235us/step - loss: 0.2003 - accuracy: 0.9236 - val_loss: 0.2450 - val_accuracy: 0.9078\n",
      "Epoch 3/20\n",
      "48000/48000 [==============================] - 11s 229us/step - loss: 0.1989 - accuracy: 0.9248 - val_loss: 0.2453 - val_accuracy: 0.9057\n",
      "Epoch 4/20\n",
      "48000/48000 [==============================] - 10s 218us/step - loss: 0.1969 - accuracy: 0.9240 - val_loss: 0.2526 - val_accuracy: 0.9015\n",
      "Epoch 5/20\n",
      "48000/48000 [==============================] - 10s 217us/step - loss: 0.1953 - accuracy: 0.9259 - val_loss: 0.2534 - val_accuracy: 0.9057\n",
      "Epoch 6/20\n",
      "48000/48000 [==============================] - 11s 220us/step - loss: 0.1945 - accuracy: 0.9263 - val_loss: 0.2668 - val_accuracy: 0.8964\n",
      "Epoch 7/20\n",
      "48000/48000 [==============================] - 11s 219us/step - loss: 0.1938 - accuracy: 0.9257 - val_loss: 0.2460 - val_accuracy: 0.9062\n",
      "Epoch 8/20\n",
      "48000/48000 [==============================] - 11s 222us/step - loss: 0.1922 - accuracy: 0.9258 - val_loss: 0.2528 - val_accuracy: 0.9052\n",
      "Epoch 9/20\n",
      "48000/48000 [==============================] - 11s 221us/step - loss: 0.1914 - accuracy: 0.9274 - val_loss: 0.2514 - val_accuracy: 0.9054\n",
      "Epoch 10/20\n",
      "48000/48000 [==============================] - 10s 218us/step - loss: 0.1902 - accuracy: 0.9276 - val_loss: 0.2558 - val_accuracy: 0.9072\n",
      "Epoch 11/20\n",
      "48000/48000 [==============================] - 11s 219us/step - loss: 0.1890 - accuracy: 0.9286 - val_loss: 0.2571 - val_accuracy: 0.9011\n",
      "Epoch 12/20\n",
      "48000/48000 [==============================] - 11s 221us/step - loss: 0.1882 - accuracy: 0.9281 - val_loss: 0.2564 - val_accuracy: 0.9043\n",
      "Epoch 13/20\n",
      "48000/48000 [==============================] - 10s 218us/step - loss: 0.1878 - accuracy: 0.9280 - val_loss: 0.2551 - val_accuracy: 0.9048\n",
      "Epoch 14/20\n",
      "48000/48000 [==============================] - 11s 221us/step - loss: 0.1875 - accuracy: 0.9285 - val_loss: 0.2542 - val_accuracy: 0.9038\n",
      "Epoch 15/20\n",
      "48000/48000 [==============================] - 11s 221us/step - loss: 0.1858 - accuracy: 0.9297 - val_loss: 0.2562 - val_accuracy: 0.9063\n",
      "Epoch 16/20\n",
      "48000/48000 [==============================] - 11s 223us/step - loss: 0.1860 - accuracy: 0.9293 - val_loss: 0.2571 - val_accuracy: 0.9053\n",
      "Epoch 17/20\n",
      "48000/48000 [==============================] - 11s 222us/step - loss: 0.1851 - accuracy: 0.9294 - val_loss: 0.2539 - val_accuracy: 0.9057\n",
      "Epoch 18/20\n",
      "48000/48000 [==============================] - 11s 221us/step - loss: 0.1845 - accuracy: 0.9293 - val_loss: 0.2575 - val_accuracy: 0.9069\n",
      "Epoch 19/20\n",
      "48000/48000 [==============================] - 10s 218us/step - loss: 0.1840 - accuracy: 0.9298 - val_loss: 0.2585 - val_accuracy: 0.9037\n",
      "Epoch 20/20\n",
      "48000/48000 [==============================] - 11s 221us/step - loss: 0.1833 - accuracy: 0.9296 - val_loss: 0.2597 - val_accuracy: 0.9036\n"
     ]
    }
   ],
   "source": [
    "history3 = classifier2.fit(x_train, y_train, epochs=20, verbose=1, validation_data=(x_val, y_val), batch_size=10)"
   ]
  },
  {
   "cell_type": "code",
   "execution_count": null,
   "metadata": {
    "colab": {
     "base_uri": "https://localhost:8080/",
     "height": 295
    },
    "colab_type": "code",
    "id": "Z_pBU_ifOMe1",
    "outputId": "c7c90c25-b497-4016-a3ee-5659b92829d1"
   },
   "outputs": [
    {
     "data": {
      "image/png": "[encoded data removed]",
      "text/plain": [
       "<Figure size 432x288 with 1 Axes>"
      ]
     },
     "metadata": {
      "needs_background": "light",
      "tags": []
     },
     "output_type": "display_data"
    }
   ],
   "source": [
    "plt.plot(history2.history['accuracy'] + history3.history['accuracy'])\n",
    "plt.plot(history2.history['val_accuracy'] + history3.history['val_accuracy'])\n",
    "plt.title('model accuracy')\n",
    "plt.ylabel('accuracy')\n",
    "plt.xlabel('epoch')\n",
    "plt.legend(['train', 'test'], loc='upper left')\n",
    "plt.show()"
   ]
  },
  {
   "cell_type": "markdown",
   "metadata": {
    "colab_type": "text",
    "id": "jhDrOaJqOjtr"
   },
   "source": [
    "## Train Model with Updated Parameters (Again)"
   ]
  },
  {
   "cell_type": "code",
   "execution_count": null,
   "metadata": {
    "colab": {
     "base_uri": "https://localhost:8080/",
     "height": 295
    },
    "colab_type": "code",
    "id": "jBVDq8RBOgVM",
    "outputId": "4fa1d581-5b0f-4903-caf1-5e7303c532a7"
   },
   "outputs": [
    {
     "name": "stdout",
     "output_type": "stream",
     "text": [
      "Model: \"sequential_12\"\n",
      "_________________________________________________________________\n",
      "Layer (type)                 Output Shape              Param #   \n",
      "=================================================================\n",
      "embedding_9 (Embedding)      (None, 100, 300)          900000000 \n",
      "_________________________________________________________________\n",
      "dense_22 (Dense)             (None, 100, 10)           3010      \n",
      "_________________________________________________________________\n",
      "flatten_12 (Flatten)         (None, 1000)              0         \n",
      "_________________________________________________________________\n",
      "dense_23 (Dense)             (None, 1)                 1001      \n",
      "=================================================================\n",
      "Total params: 900,004,011\n",
      "Trainable params: 4,011\n",
      "Non-trainable params: 900,000,000\n",
      "_________________________________________________________________\n"
     ]
    }
   ],
   "source": [
    "import keras\n",
    "\n",
    "embedding_layer.input_length = INPUT_LENGTH\n",
    "\n",
    "classifier3 = keras.Sequential(\n",
    "    [\n",
    "        embedding_layer,\n",
    "        keras.layers.Dense(units=10, activation='relu'),\n",
    "        keras.layers.Flatten(),\n",
    "        keras.layers.Dense(units=1, activation='sigmoid'),\n",
    "    ]\n",
    ")\n",
    "classifier3.compile(loss='binary_crossentropy', optimizer='adam', metrics=['accuracy'])\n",
    "classifier3.summary()"
   ]
  },
  {
   "cell_type": "code",
   "execution_count": null,
   "metadata": {
    "colab": {
     "base_uri": "https://localhost:8080/",
     "height": 728
    },
    "colab_type": "code",
    "id": "MCNvuhqEO1ng",
    "outputId": "7a8a35e6-d8bc-4ba3-c674-1e50672afcb5"
   },
   "outputs": [
    {
     "name": "stdout",
     "output_type": "stream",
     "text": [
      "Train on 48000 samples, validate on 12000 samples\n",
      "Epoch 1/20\n",
      "48000/48000 [==============================] - 9s 180us/step - loss: 0.3017 - accuracy: 0.8794 - val_loss: 0.2627 - val_accuracy: 0.8996\n",
      "Epoch 2/20\n",
      "48000/48000 [==============================] - 8s 171us/step - loss: 0.2482 - accuracy: 0.9037 - val_loss: 0.2459 - val_accuracy: 0.9082\n",
      "Epoch 3/20\n",
      "48000/48000 [==============================] - 9s 187us/step - loss: 0.2354 - accuracy: 0.9091 - val_loss: 0.2437 - val_accuracy: 0.9057\n",
      "Epoch 4/20\n",
      "48000/48000 [==============================] - 9s 182us/step - loss: 0.2274 - accuracy: 0.9128 - val_loss: 0.2429 - val_accuracy: 0.9077\n",
      "Epoch 5/20\n",
      "48000/48000 [==============================] - 8s 170us/step - loss: 0.2209 - accuracy: 0.9141 - val_loss: 0.2377 - val_accuracy: 0.9108\n",
      "Epoch 6/20\n",
      "48000/48000 [==============================] - 8s 176us/step - loss: 0.2150 - accuracy: 0.9169 - val_loss: 0.2396 - val_accuracy: 0.9104\n",
      "Epoch 7/20\n",
      "48000/48000 [==============================] - 8s 170us/step - loss: 0.2112 - accuracy: 0.9191 - val_loss: 0.2375 - val_accuracy: 0.9112\n",
      "Epoch 8/20\n",
      "48000/48000 [==============================] - 9s 187us/step - loss: 0.2068 - accuracy: 0.9202 - val_loss: 0.2391 - val_accuracy: 0.9102\n",
      "Epoch 9/20\n",
      "48000/48000 [==============================] - 8s 173us/step - loss: 0.2035 - accuracy: 0.9218 - val_loss: 0.2395 - val_accuracy: 0.9098\n",
      "Epoch 10/20\n",
      "48000/48000 [==============================] - 9s 180us/step - loss: 0.2005 - accuracy: 0.9231 - val_loss: 0.2495 - val_accuracy: 0.9072\n",
      "Epoch 11/20\n",
      "48000/48000 [==============================] - 8s 170us/step - loss: 0.1985 - accuracy: 0.9240 - val_loss: 0.2421 - val_accuracy: 0.9091\n",
      "Epoch 12/20\n",
      "48000/48000 [==============================] - 8s 176us/step - loss: 0.1951 - accuracy: 0.9248 - val_loss: 0.2409 - val_accuracy: 0.9080\n",
      "Epoch 13/20\n",
      "48000/48000 [==============================] - 8s 172us/step - loss: 0.1929 - accuracy: 0.9262 - val_loss: 0.2438 - val_accuracy: 0.9080\n",
      "Epoch 14/20\n",
      "48000/48000 [==============================] - 9s 181us/step - loss: 0.1911 - accuracy: 0.9262 - val_loss: 0.2424 - val_accuracy: 0.9099\n",
      "Epoch 15/20\n",
      "48000/48000 [==============================] - 8s 173us/step - loss: 0.1890 - accuracy: 0.9288 - val_loss: 0.2432 - val_accuracy: 0.9086\n",
      "Epoch 16/20\n",
      "48000/48000 [==============================] - 8s 176us/step - loss: 0.1877 - accuracy: 0.9285 - val_loss: 0.2457 - val_accuracy: 0.9085\n",
      "Epoch 17/20\n",
      "48000/48000 [==============================] - 8s 175us/step - loss: 0.1862 - accuracy: 0.9281 - val_loss: 0.2462 - val_accuracy: 0.9081\n",
      "Epoch 18/20\n",
      "48000/48000 [==============================] - 8s 176us/step - loss: 0.1842 - accuracy: 0.9291 - val_loss: 0.2480 - val_accuracy: 0.9096\n",
      "Epoch 19/20\n",
      "48000/48000 [==============================] - 8s 173us/step - loss: 0.1833 - accuracy: 0.9301 - val_loss: 0.2465 - val_accuracy: 0.9078\n",
      "Epoch 20/20\n",
      "48000/48000 [==============================] - 9s 178us/step - loss: 0.1825 - accuracy: 0.9293 - val_loss: 0.2500 - val_accuracy: 0.9087\n"
     ]
    }
   ],
   "source": [
    "history4 = classifier3.fit(x_train, y_train, epochs=20, verbose=1, validation_data=(x_val, y_val), batch_size=20)"
   ]
  },
  {
   "cell_type": "code",
   "execution_count": null,
   "metadata": {
    "colab": {
     "base_uri": "https://localhost:8080/",
     "height": 295
    },
    "colab_type": "code",
    "id": "IPwlBEX5SXpl",
    "outputId": "a83544dd-019b-43e2-ffb1-eb8620a0279d"
   },
   "outputs": [
    {
     "data": {
      "image/png": "[encoded data removed]",
      "text/plain": [
       "<Figure size 432x288 with 1 Axes>"
      ]
     },
     "metadata": {
      "needs_background": "light",
      "tags": []
     },
     "output_type": "display_data"
    }
   ],
   "source": [
    "plt.plot(history4.history['accuracy'])\n",
    "plt.plot(history4.history['val_accuracy'])\n",
    "plt.title('model accuracy')\n",
    "plt.ylabel('accuracy')\n",
    "plt.xlabel('epoch')\n",
    "plt.legend(['train', 'test'], loc='upper left')\n",
    "plt.show()"
   ]
  },
  {
   "cell_type": "markdown",
   "metadata": {
    "colab_type": "text",
    "id": "IyQVJuE5ybII"
   },
   "source": [
    "# Creating a LSTM Model"
   ]
  },
  {
   "cell_type": "code",
   "execution_count": null,
   "metadata": {
    "colab": {
     "base_uri": "https://localhost:8080/",
     "height": 260
    },
    "colab_type": "code",
    "id": "n1bmNCHJyhOo",
    "outputId": "28ca8c72-52e6-4efc-9637-de3739728948"
   },
   "outputs": [
    {
     "name": "stdout",
     "output_type": "stream",
     "text": [
      "Model: \"sequential_14\"\n",
      "_________________________________________________________________\n",
      "Layer (type)                 Output Shape              Param #   \n",
      "=================================================================\n",
      "embedding_9 (Embedding)      (None, 100, 300)          900000000 \n",
      "_________________________________________________________________\n",
      "lstm_2 (LSTM)                (None, 100)               160400    \n",
      "_________________________________________________________________\n",
      "dense_25 (Dense)             (None, 1)                 101       \n",
      "=================================================================\n",
      "Total params: 900,160,501\n",
      "Trainable params: 160,501\n",
      "Non-trainable params: 900,000,000\n",
      "_________________________________________________________________\n"
     ]
    }
   ],
   "source": [
    "import keras\n",
    "\n",
    "embedding_layer.input_length = INPUT_LENGTH\n",
    "\n",
    "lstm_classifier = keras.Sequential(\n",
    "    [\n",
    "        embedding_layer,\n",
    "        keras.layers.LSTM(100),\n",
    "        keras.layers.Dense(units=1, activation='sigmoid'),\n",
    "    ]\n",
    ")\n",
    "lstm_classifier.compile(loss='binary_crossentropy', optimizer='adam', metrics=['accuracy'])\n",
    "lstm_classifier.summary()"
   ]
  },
  {
   "cell_type": "code",
   "execution_count": null,
   "metadata": {
    "colab": {
     "base_uri": "https://localhost:8080/",
     "height": 208
    },
    "colab_type": "code",
    "id": "zltvkcay_jGn",
    "outputId": "ba67e590-4376-4ea2-e64d-91381d5de785"
   },
   "outputs": [
    {
     "name": "stdout",
     "output_type": "stream",
     "text": [
      "Train on 48000 samples, validate on 12000 samples\n",
      "Epoch 1/5\n",
      "48000/48000 [==============================] - 195s 4ms/step - loss: 0.2638 - accuracy: 0.8952 - val_loss: 0.2533 - val_accuracy: 0.8992\n",
      "Epoch 2/5\n",
      "48000/48000 [==============================] - 187s 4ms/step - loss: 0.2225 - accuracy: 0.9106 - val_loss: 0.2176 - val_accuracy: 0.9122\n",
      "Epoch 3/5\n",
      "48000/48000 [==============================] - 186s 4ms/step - loss: 0.1961 - accuracy: 0.9227 - val_loss: 0.2044 - val_accuracy: 0.9164\n",
      "Epoch 4/5\n",
      "48000/48000 [==============================] - 182s 4ms/step - loss: 0.1736 - accuracy: 0.9319 - val_loss: 0.2067 - val_accuracy: 0.9182\n",
      "Epoch 5/5\n",
      "48000/48000 [==============================] - 193s 4ms/step - loss: 0.1507 - accuracy: 0.9415 - val_loss: 0.2247 - val_accuracy: 0.9153\n"
     ]
    }
   ],
   "source": [
    "history5 = lstm_classifier.fit(x_train, y_train, epochs=5, verbose=1, validation_data=(x_val, y_val), batch_size=20)"
   ]
  },
  {
   "cell_type": "code",
   "execution_count": null,
   "metadata": {
    "cellView": "code",
    "colab": {
     "base_uri": "https://localhost:8080/",
     "height": 295
    },
    "colab_type": "code",
    "id": "b5cktW3aDqRI",
    "outputId": "7d52e23f-b5f6-48c8-b511-9097882f8553"
   },
   "outputs": [
    {
     "data": {
      "image/png": "[encoded data removed]",
      "text/plain": [
       "<Figure size 432x288 with 1 Axes>"
      ]
     },
     "metadata": {
      "needs_background": "light",
      "tags": []
     },
     "output_type": "display_data"
    }
   ],
   "source": [
    "plt.plot(history5.history['accuracy'])\n",
    "plt.plot(history5.history['val_accuracy'])\n",
    "plt.title('model accuracy')\n",
    "plt.ylabel('accuracy')\n",
    "plt.xlabel('epoch')\n",
    "plt.legend(['train', 'test'], loc='upper left')\n",
    "plt.show()"
   ]
  },
  {
   "cell_type": "markdown",
   "metadata": {
    "colab_type": "text",
    "id": "98xtsYdUF-BV"
   },
   "source": [
    "# Multi-label Classifier"
   ]
  },
  {
   "cell_type": "markdown",
   "metadata": {
    "colab_type": "text",
    "id": "FboNCHvcGKtK"
   },
   "source": [
    "## Prepare the Data Set"
   ]
  },
  {
   "cell_type": "code",
   "execution_count": null,
   "metadata": {
    "colab": {},
    "colab_type": "code",
    "id": "nTBhfDfdGJWc"
   },
   "outputs": [],
   "source": [
    "import keras\n",
    "import numpy as np\n",
    "\n",
    "INPUT_LENGTH = 100\n",
    "VALIDATION_SPLIT = 0.2\n",
    "CLASS_COUNT = 4\n",
    "\n",
    "def to_token_id(tokens):\n",
    "    return [model.vocab[token].index for token in tokens if token in model.vocab]\n",
    "\n",
    "labels = df['class'].to_numpy()\n",
    "# get one-hot encoding for each label\n",
    "labels = np.eye(CLASS_COUNT, dtype=int)[labels - 1]\n",
    "\n",
    "data = df['text'].apply(to_token_id)\n",
    "# make sequences same length\n",
    "data = keras.preprocessing.sequence.pad_sequences(data, maxlen=INPUT_LENGTH)\n",
    "\n",
    "indices = np.arange(data.shape[0])\n",
    "np.random.shuffle(indices)\n",
    "\n",
    "# randomize the dataset\n",
    "data = data[indices]\n",
    "labels = labels[indices]\n",
    "\n",
    "train_count = int((1 - VALIDATION_SPLIT) * data.shape[0])\n",
    "val_count = data.shape[0] - train_count\n",
    "\n",
    "# get the train and validation indices for the original dataset\n",
    "train_indices = np.zeros((CLASS_COUNT, train_count // CLASS_COUNT), dtype=int)\n",
    "val_indices = np.zeros((CLASS_COUNT, val_count // CLASS_COUNT), dtype=int)\n",
    "for cls_id in range(0, CLASS_COUNT):\n",
    "    class_indices = np.arange(data.shape[0])[labels[:, cls_id] == 1]\n",
    "    train_indices[cls_id] = class_indices[:(train_count // 4)]\n",
    "    val_indices[cls_id] = class_indices[(train_count // 4):]\n",
    "\n",
    "train_indices = train_indices.flatten()\n",
    "val_indices = val_indices.flatten()\n",
    "\n",
    "# set the data\n",
    "# [x, x, x, x, x, x, x, x, o, o]\n",
    "x_train = data[train_indices]\n",
    "y_train = labels[train_indices]\n",
    "# [o, o, o, o, o, o, o, o, x, x]\n",
    "x_val = data[val_indices]\n",
    "y_val = labels[val_indices]"
   ]
  },
  {
   "cell_type": "code",
   "execution_count": null,
   "metadata": {
    "colab": {
     "base_uri": "https://localhost:8080/",
     "height": 34
    },
    "colab_type": "code",
    "id": "W56_8VFAO9b1",
    "outputId": "5291c135-2ee3-4938-a112-62fe1cc62b89"
   },
   "outputs": [
    {
     "data": {
      "text/plain": [
       "((96000, 100), (96000, 4), (24000, 100), (24000, 4))"
      ]
     },
     "execution_count": 62,
     "metadata": {
      "tags": []
     },
     "output_type": "execute_result"
    }
   ],
   "source": [
    "x_train.shape, y_train.shape, x_val.shape, y_val.shape"
   ]
  },
  {
   "cell_type": "markdown",
   "metadata": {
    "colab_type": "text",
    "id": "toq9uyUow0U4"
   },
   "source": [
    "Check and see if the dataset is class-wise balanced."
   ]
  },
  {
   "cell_type": "code",
   "execution_count": null,
   "metadata": {
    "colab": {
     "base_uri": "https://localhost:8080/",
     "height": 34
    },
    "colab_type": "code",
    "id": "hihnKTy5yh3t",
    "outputId": "fb04b345-27e6-4a74-cb52-31c324690b37"
   },
   "outputs": [
    {
     "data": {
      "text/plain": [
       "(24000, 24000, 24000, 24000)"
      ]
     },
     "execution_count": 63,
     "metadata": {
      "tags": []
     },
     "output_type": "execute_result"
    }
   ],
   "source": [
    "y_train[y_train[:,0] == 1].shape[0],y_train[y_train[:,1] == 1].shape[0],y_train[y_train[:,2] == 1].shape[0],y_train[y_train[:,3] == 1].shape[0]"
   ]
  },
  {
   "cell_type": "markdown",
   "metadata": {
    "colab_type": "text",
    "id": "T6zOOHr9PGjR"
   },
   "source": [
    "## Training a simple multi-class classifier\n",
    "\n"
   ]
  },
  {
   "cell_type": "code",
   "execution_count": null,
   "metadata": {
    "colab": {
     "base_uri": "https://localhost:8080/",
     "height": 298
    },
    "colab_type": "code",
    "id": "-YeQc7-rPFzW",
    "outputId": "324c7ccd-b095-4144-f1da-5dd0667e35e7"
   },
   "outputs": [
    {
     "name": "stdout",
     "output_type": "stream",
     "text": [
      "Model: \"sequential_1\"\n",
      "_________________________________________________________________\n",
      "Layer (type)                 Output Shape              Param #   \n",
      "=================================================================\n",
      "embedding_1 (Embedding)      (None, 100, 300)          900000000 \n",
      "_________________________________________________________________\n",
      "dense_1 (Dense)              (None, 100, 8)            2408      \n",
      "_________________________________________________________________\n",
      "flatten_1 (Flatten)          (None, 800)               0         \n",
      "_________________________________________________________________\n",
      "dense_2 (Dense)              (None, 4)                 3204      \n",
      "=================================================================\n",
      "Total params: 900,005,612\n",
      "Trainable params: 5,612\n",
      "Non-trainable params: 900,000,000\n",
      "_________________________________________________________________\n"
     ]
    }
   ],
   "source": [
    "import keras\n",
    "\n",
    "embedding_layer = model.get_keras_embedding(train_embeddings=False)\n",
    "embedding_layer.input_length = INPUT_LENGTH\n",
    "\n",
    "classifier = keras.Sequential(\n",
    "    [\n",
    "        embedding_layer,\n",
    "        keras.layers.Dense(units=8, activation='relu'),\n",
    "        keras.layers.Flatten(),\n",
    "        keras.layers.Dense(units=4, activation='sigmoid'),\n",
    "    ]\n",
    ")\n",
    "classifier.compile(loss='binary_crossentropy', optimizer='adam', metrics=['accuracy'])\n",
    "classifier.summary()"
   ]
  },
  {
   "cell_type": "code",
   "execution_count": null,
   "metadata": {
    "colab": {
     "base_uri": "https://localhost:8080/",
     "height": 386
    },
    "colab_type": "code",
    "id": "iYMRjyCPQBMD",
    "outputId": "8501f066-2961-4d5a-d73f-b39cb9634eb5"
   },
   "outputs": [
    {
     "name": "stdout",
     "output_type": "stream",
     "text": [
      "Train on 96000 samples, validate on 24000 samples\n",
      "Epoch 1/10\n",
      "96000/96000 [==============================] - 29s 302us/step - loss: 0.1784 - accuracy: 0.9334 - val_loss: 0.1576 - val_accuracy: 0.9438\n",
      "Epoch 2/10\n",
      "96000/96000 [==============================] - 21s 223us/step - loss: 0.1515 - accuracy: 0.9454 - val_loss: 0.1554 - val_accuracy: 0.9445\n",
      "Epoch 3/10\n",
      "96000/96000 [==============================] - 22s 230us/step - loss: 0.1468 - accuracy: 0.9472 - val_loss: 0.1545 - val_accuracy: 0.9453\n",
      "Epoch 4/10\n",
      "96000/96000 [==============================] - 21s 217us/step - loss: 0.1439 - accuracy: 0.9483 - val_loss: 0.1529 - val_accuracy: 0.9456\n",
      "Epoch 5/10\n",
      "96000/96000 [==============================] - 21s 222us/step - loss: 0.1419 - accuracy: 0.9491 - val_loss: 0.1537 - val_accuracy: 0.9453\n",
      "Epoch 6/10\n",
      "96000/96000 [==============================] - 21s 222us/step - loss: 0.1407 - accuracy: 0.9497 - val_loss: 0.1552 - val_accuracy: 0.9465\n",
      "Epoch 7/10\n",
      "96000/96000 [==============================] - 21s 217us/step - loss: 0.1399 - accuracy: 0.9499 - val_loss: 0.1524 - val_accuracy: 0.9464\n",
      "Epoch 8/10\n",
      "96000/96000 [==============================] - 21s 217us/step - loss: 0.1391 - accuracy: 0.9503 - val_loss: 0.1525 - val_accuracy: 0.9461\n",
      "Epoch 9/10\n",
      "96000/96000 [==============================] - 21s 218us/step - loss: 0.1383 - accuracy: 0.9504 - val_loss: 0.1517 - val_accuracy: 0.9464\n",
      "Epoch 10/10\n",
      "96000/96000 [==============================] - 21s 218us/step - loss: 0.1377 - accuracy: 0.9507 - val_loss: 0.1513 - val_accuracy: 0.9457\n"
     ]
    }
   ],
   "source": [
    "history = classifier.fit(x_train, y_train, epochs=10, verbose=1, validation_data=(x_val, y_val), batch_size=10)"
   ]
  },
  {
   "cell_type": "code",
   "execution_count": null,
   "metadata": {
    "colab": {
     "base_uri": "https://localhost:8080/",
     "height": 158
    },
    "colab_type": "code",
    "id": "8BV9NDvZ4PgM",
    "outputId": "37b1b203-ac58-4dff-cc0e-1189e2283b85"
   },
   "outputs": [
    {
     "data": {
      "text/plain": [
       "array([[6.9953315e-02, 8.0309021e-01, 1.2928697e-02, 7.2692134e-03],\n",
       "       [6.5907292e-02, 6.5971084e-04, 6.5825272e-01, 4.2944425e-03],\n",
       "       [1.6920939e-03, 9.8646462e-01, 5.4964494e-02, 1.8512663e-02],\n",
       "       ...,\n",
       "       [3.2576029e-03, 2.2872604e-05, 2.8810802e-01, 9.0000981e-01],\n",
       "       [3.4340855e-02, 9.7785795e-01, 5.6096693e-03, 1.6007683e-04],\n",
       "       [6.4397953e-02, 6.8207141e-03, 3.2071859e-02, 5.0870174e-01]],\n",
       "      dtype=float32)"
      ]
     },
     "execution_count": 87,
     "metadata": {
      "tags": []
     },
     "output_type": "execute_result"
    }
   ],
   "source": [
    "classifier.predict(x_val)"
   ]
  },
  {
   "cell_type": "code",
   "execution_count": null,
   "metadata": {
    "colab": {
     "base_uri": "https://localhost:8080/",
     "height": 295
    },
    "colab_type": "code",
    "id": "YHzrnsq4QIIt",
    "outputId": "2f445556-bf45-48fa-e16f-2d1eb3331eb1"
   },
   "outputs": [
    {
     "data": {
      "image/png": "[encoded data removed]",
      "text/plain": [
       "<Figure size 432x288 with 1 Axes>"
      ]
     },
     "metadata": {
      "needs_background": "light",
      "tags": []
     },
     "output_type": "display_data"
    }
   ],
   "source": [
    "import matplotlib.pyplot as plt\n",
    "\n",
    "plt.plot(history.history['accuracy'])\n",
    "plt.plot(history.history['val_accuracy'])\n",
    "plt.title('model accuracy')\n",
    "plt.ylabel('accuracy')\n",
    "plt.xlabel('epoch')\n",
    "plt.legend(['train', 'test'], loc='upper left')\n",
    "plt.show()"
   ]
  },
  {
   "cell_type": "code",
   "execution_count": null,
   "metadata": {
    "colab": {
     "base_uri": "https://localhost:8080/",
     "height": 279
    },
    "colab_type": "code",
    "id": "jahM0kK2RzpH",
    "outputId": "198ecd42-6973-4b04-afb5-2093954cf7e7"
   },
   "outputs": [
    {
     "data": {
      "image/png": "[encoded data removed]",
      "text/plain": [
       "<Figure size 432x288 with 1 Axes>"
      ]
     },
     "metadata": {
      "needs_background": "light",
      "tags": []
     },
     "output_type": "display_data"
    }
   ],
   "source": [
    "index = np.random.choice(np.arange(y_val.shape[0]))\n",
    "\n",
    "predicted = classifier.predict(np.array([x_val[index]])).reshape(-1)\n",
    "expected = y_val[index]\n",
    "\n",
    "w = 0.35\n",
    "x = np.arange(CLASS_COUNT)\n",
    "plt.bar(x - w/2, predicted, w, label='Predicted')\n",
    "plt.bar(x + w/2, expected, w, label='Expected')\n",
    "plt.xlabel('Class')\n",
    "plt.xticks(x, (1,2,3,4))\n",
    "plt.legend(loc='upper right')\n",
    "plt.show()"
   ]
  },
  {
   "cell_type": "code",
   "execution_count": null,
   "metadata": {
    "colab": {
     "base_uri": "https://localhost:8080/",
     "height": 34
    },
    "colab_type": "code",
    "id": "KCYjz-CaWwRZ",
    "outputId": "060cd696-7e47-4736-860b-05a654eebac4"
   },
   "outputs": [
    {
     "data": {
      "text/plain": [
       "1.0335478"
      ]
     },
     "execution_count": 77,
     "metadata": {
      "tags": []
     },
     "output_type": "execute_result"
    }
   ],
   "source": [
    "np.sum(predicted)"
   ]
  },
  {
   "cell_type": "code",
   "execution_count": null,
   "metadata": {
    "colab": {
     "base_uri": "https://localhost:8080/",
     "height": 52
    },
    "colab_type": "code",
    "id": "s6SEb_QS3-uD",
    "outputId": "e654c5b8-cdec-4c70-aed7-3785c98adbe7"
   },
   "outputs": [
    {
     "data": {
      "text/plain": [
       "array([2.6143305e-05, 1.2914099e-07, 1.0200993e-01, 9.8976570e-01],\n",
       "      dtype=float32)"
      ]
     },
     "execution_count": 86,
     "metadata": {
      "tags": []
     },
     "output_type": "execute_result"
    }
   ],
   "source": [
    "predicted"
   ]
  },
  {
   "cell_type": "markdown",
   "metadata": {
    "colab_type": "text",
    "id": "iX5pNpcGw-nC"
   },
   "source": [
    "## Training a multi-class multi-label classifier\n"
   ]
  },
  {
   "cell_type": "code",
   "execution_count": null,
   "metadata": {
    "colab": {
     "base_uri": "https://localhost:8080/",
     "height": 298
    },
    "colab_type": "code",
    "id": "mVGgrcr1w99d",
    "outputId": "3f74bf51-d6e1-43db-c23a-62d63b823808"
   },
   "outputs": [
    {
     "name": "stdout",
     "output_type": "stream",
     "text": [
      "Model: \"sequential_2\"\n",
      "_________________________________________________________________\n",
      "Layer (type)                 Output Shape              Param #   \n",
      "=================================================================\n",
      "embedding_2 (Embedding)      (None, 100, 300)          900000000 \n",
      "_________________________________________________________________\n",
      "dense_3 (Dense)              (None, 100, 8)            2408      \n",
      "_________________________________________________________________\n",
      "flatten_2 (Flatten)          (None, 800)               0         \n",
      "_________________________________________________________________\n",
      "dense_4 (Dense)              (None, 4)                 3204      \n",
      "=================================================================\n",
      "Total params: 900,005,612\n",
      "Trainable params: 5,612\n",
      "Non-trainable params: 900,000,000\n",
      "_________________________________________________________________\n"
     ]
    }
   ],
   "source": [
    "import keras\n",
    "\n",
    "embedding_layer = model.get_keras_embedding(train_embeddings=False)\n",
    "embedding_layer.input_length = INPUT_LENGTH\n",
    "\n",
    "## THIS IS NOT A MULTI-LABEL CLASSIFIER\n",
    "classifier = keras.Sequential(\n",
    "    [\n",
    "        embedding_layer,\n",
    "        keras.layers.Dense(units=8, activation='relu'),\n",
    "        keras.layers.Flatten(),\n",
    "        keras.layers.Dense(units=4, activation='sigmoid'),\n",
    "    ]\n",
    ")\n",
    "classifier.compile(loss='categorical_crossentropy', optimizer='adam', metrics=['accuracy'])\n",
    "classifier.summary()"
   ]
  },
  {
   "cell_type": "markdown",
   "metadata": {
    "colab_type": "text",
    "id": "IOyRFyLUBVuI"
   },
   "source": [
    "with multiple classifiers"
   ]
  },
  {
   "cell_type": "code",
   "execution_count": null,
   "metadata": {
    "colab": {},
    "colab_type": "code",
    "id": "LeDWI-6oCP8W"
   },
   "outputs": [],
   "source": [
    "import keras\n",
    "import numpy as np\n",
    "\n",
    "INPUT_LENGTH = 100\n",
    "VALIDATION_SPLIT = 0.2\n",
    "CLASS_COUNT = 4\n",
    "\n",
    "def to_token_id(tokens):\n",
    "    return [model.vocab[token].index for token in tokens if token in model.vocab]\n",
    "\n",
    "labels = df['class'].to_numpy()\n",
    "# get one-hot encoding for each label\n",
    "labels = np.eye(CLASS_COUNT, dtype=int)[labels - 1]\n",
    "\n",
    "data = df['text'].apply(to_token_id)\n",
    "# make sequences same length\n",
    "data = keras.preprocessing.sequence.pad_sequences(data, maxlen=INPUT_LENGTH)\n",
    "\n",
    "indices = np.arange(data.shape[0])\n",
    "np.random.shuffle(indices)\n",
    "\n",
    "# randomize the dataset\n",
    "data = data[indices]\n",
    "labels = labels[indices]\n",
    "\n",
    "train_count = int((1 - VALIDATION_SPLIT) * data.shape[0])\n",
    "val_count = data.shape[0] - train_count\n",
    "\n",
    "# get the train and validation indices for the original dataset\n",
    "train_indices = np.zeros((CLASS_COUNT, train_count // CLASS_COUNT), dtype=int)\n",
    "val_indices = np.zeros((CLASS_COUNT, val_count // CLASS_COUNT), dtype=int)\n",
    "for cls_id in range(0, CLASS_COUNT):\n",
    "    class_indices = np.arange(data.shape[0])[labels[:, cls_id] == 1]\n",
    "    train_indices[cls_id] = class_indices[:(train_count // 4)]\n",
    "    val_indices[cls_id] = class_indices[(train_count // 4):]\n",
    "\n",
    "train_indices = train_indices.flatten()\n",
    "val_indices = val_indices.flatten()\n",
    "\n",
    "# set the data\n",
    "# [x, x, x, x, x, x, x, x, o, o]\n",
    "x_train = data[train_indices]\n",
    "y_train = labels[train_indices]\n",
    "# [o, o, o, o, o, o, o, o, x, x]\n",
    "x_val = data[val_indices]\n",
    "y_val = labels[val_indices]"
   ]
  },
  {
   "cell_type": "code",
   "execution_count": null,
   "metadata": {
    "colab": {},
    "colab_type": "code",
    "id": "WTRGfngw6znf"
   },
   "outputs": [],
   "source": [
    "import keras\n",
    "\n",
    "embedding_layer = model.get_keras_embedding(train_embeddings=False)\n",
    "embedding_layer.input_length = INPUT_LENGTH\n",
    "\n",
    "classifiers = [] * CLASS_COUNT\n",
    "histories = [] * CLASS_COUNT\n",
    "for i in range(CLASS_COUNT):\n",
    "    classifiers[i] = classifier = keras.Sequential(\n",
    "        [\n",
    "            embedding_layer,\n",
    "            keras.layers.Dense(units=8, activation='relu'),\n",
    "            keras.layers.Flatten(),\n",
    "            keras.layers.Dense(units=1, activation='sigmoid'),\n",
    "        ]\n",
    "    )\n",
    "    classifier.compile(loss='binary_crossentropy', optimizer='adam', metrics=['accuracy'])\n",
    "    classifier.summary()\n",
    "\n",
    "    # TODO: Move balancing to preparing stage\n",
    "    p_y_ids = np.arange(labels.shape[0])[labels[:, i] == 1]\n",
    "    np.random.shuffle(p_y_ids)\n",
    "\n",
    "    nb_validation_samples = int(VALIDATION_SPLIT * labels.shape[0] / 4)\n",
    "\n",
    "    # positive training data\n",
    "    p_x_train = data[:-p_y_ids]\n",
    "    p_y_train = labels[:-p_y_ids]\n",
    "\n",
    "    # negative training data\n",
    "    n_x_train = None\n",
    "    n_y_train = None\n",
    "\n",
    "    # positive validation data\n",
    "    p_x_val = data[-p_y_ids:]\n",
    "    p_y_val = labels[-p_y_ids:]\n",
    "\n",
    "    # negative validation data\n",
    "    n_x_val = None\n",
    "    n_y_val = None\n",
    "\n",
    "    history[i] = classifier.fit(p_x_train, p_y_train, epochs=10, verbose=1, validation_data=(p_x_val, p_y_val), batch_size=10)"
   ]
  }
 ],
 "metadata": {
  "colab": {
   "collapsed_sections": [
    "Cxk5dZ5WsmLM",
    "zOH6fR6M7T9L"
   ],
   "name": "first_steps.ipynb",
   "provenance": [],
   "toc_visible": true
  },
  "kernelspec": {
   "display_name": "Python 3",
   "language": "python",
   "name": "python3"
  },
  "language_info": {
   "codemirror_mode": {
    "name": "ipython",
    "version": 3
   },
   "file_extension": ".py",
   "mimetype": "text/x-python",
   "name": "python",
   "nbconvert_exporter": "python",
   "pygments_lexer": "ipython3",
   "version": "3.8.3-final"
  }
 },
 "nbformat": 4,
 "nbformat_minor": 1
}
